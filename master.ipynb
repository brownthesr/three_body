{
 "cells": [
  {
   "cell_type": "markdown",
   "metadata": {},
   "source": [
    "# Modeling The Three Body Problem with Symmetries\n",
    "In this project we sought to model the three body problem by incorporating different symmetries into the neural network. We use a couple of different methods for making predictions on the three body problem. First we try developing a Hamiltonian Neural Network [1] and train it to directly predict the acceleration and velocity at each time step. However, Hamiltonian ODEs rely on training using the ground truth of acceleration which greatly simplifies the problem. As in this case, the acceleration is a simple inverse square function of the inputs. Furthermore, the acceleration may be unknown when studying more complicated systems. As a result we develop several Neural ODEs [2] that model the data only using the ground truth of position and velocity. We also incorporate several symmetries into the problem using techniques from [3].\n",
    "\n",
    "We would not recommend re-running some of these cells. The Hamiltonian Neural Networks only take about 3-4 minutes to run, but some of the Neural ODEs were trained for hours on the BYU super computer with much better GPUs. We have included several folders with simulations of the three body problem for various architectures.\n",
    "\n",
    "## Literature Review\n",
    "[1] Sam Greydanus, Misko Dzamba, & Jason Yosinski. (2019). Hamiltonian Neural Networks.\n",
    "\n",
    "This works seeks to learn differential equations that model Hamiltonian systems. Many different systems can be fully characterized by the energy equation called the Hamiltonian. The Hamiltonian not only predicts the energy of a system but its derivatives predict both change in momentum and change in position. In this work, they train a neural network that predicts the hamiltonian of a system by backpropagating to make the partial derivatives of the network match the change in momentum and positions of the hamiltonian.\n",
    "\n",
    "In their work they predict energies of several different systems: The ideal mass spring, ideal pendulum, and the real pendulum. They also try to model the two and three body problem but are unable to get very good results with the three body problem. We use portions of their code when generating the datasets for our three body problem.\n",
    "\n",
    "[2] Ricky T. Q. Chen, Yulia Rubanova, Jesse Bettencourt, & David Duvenaud. (2019). Neural Ordinary Differential Equations.\n",
    "\n",
    "This work proposes using ODE solvers as a version of residual connections for neural networks. The inspiration for this is that residual connections look a lot like forward euler integration. Their idea was to use feedforward neural network as the update equation in the ODE solver and then backpropagate through the ODE solver. However, backpropagating through an ODE solver can be very costly. So as a result, they propose an adjoint method that allows us to not have to differentiate all the way through the ODE solver and do backpropagation in $O(1)$ time.  Additionally, they model time series using a Latent Neural ODE that is able to filter out noise using a Variational Auto-Encoder.\n",
    "\n",
    "In our work we do not use the adjoint method they propose. This is because we found it took much longer than just backpropagating through the solver initially.\n",
    "\n",
    "[3] Soledad Villar, David W. Hogg, Kate Storey-Fisher, Weichi Yao, & Ben Blum-Smith. (2023). Scalars are universal: Equivariant machine learning, structured like classical physics.\n",
    "\n",
    "This paper shows that non-linear group equivariant functions are universally expressed as linear combinations of the scalar, vector, and tensor inputs. They prove how different functions that are equivariant to some group action must be represented. Importantly they show how functions that are translationally, rotationally, and permutation equivariant must be represented as linear combinations of predicted scalers and input vectors. Using this framework they explore several examples of how they can learn some arbitrary function with a neural network by hardcoding in the equivariance.\n",
    "\n",
    "This paper is very important to our problem. They prove how our functions must be represented in order to be invariant under some group action. We incorporate their methods when developing symmetries for the three body problem and see some awesome results.\n",
    "\n",
    "[4] Behrooz Tahmasebi, & Stefanie Jegelka (2023). The Exact Sample Complexity Gain from Invariances for Kernel Regression. In Thirty-seventh Conference on Neural Information Processing Systems.\n",
    "\n",
    "This work examines the exact sample complexity gains from encoding invariances into a model. They study this in the specific example of kernel ridge regression, but state that it heuristically looks very similar in the neural network case. They show that when you train m samples under a certain invariant finite group G, you are essentially training on $m|G|$ samples. In the infinite case they find that by increasing the size of the group you reduce the exponent on the expected emperical risk.\n",
    "\n",
    "Applied to our problem, if we incorporate translational, rotational, and permutation equivariance we should expect that our expected risk should be proportional to $(\\frac{\\text{Vol(possible data)}}{6m})^{\\frac{s}{s+3/2}}$ where s is the p-norm of the space of sobelev functions we are considering.\n",
    "\n"
   ]
  },
  {
   "cell_type": "markdown",
   "metadata": {},
   "source": [
    "## Hamiltonian Neural Networks\n",
    "In this first section we explore trying to model the three body system with Hamiltonian Neural Networks\n",
    "\n",
    "The basic idea between a Hamiltonian Neural Network is to train a neural network to match the Hamiltonian or total energy of a system. So given the state of a system $x$, $H(x)$ produces the total energy of the system. However, we do not train to model this directly; rather, we train a neural network approximation $\\hat H(x)$ where we run gradient descent on the derivatives of a neural network.\n",
    "\n",
    "More formally the Hamiltonian of a system typically takes in two inputs: position $p$ and momentum $q$. The hamiltonian equations tell us that $\\frac{\\partial H}{\\partial p}=\\frac{\\partial q}{\\partial t}$ and $\\frac{\\partial H}{\\partial q}=-\\frac{\\partial p}{\\partial t}$. So during training time we calculate the MSE loss between $\\frac{\\partial \\hat H}{\\partial p}$ and $\\frac{\\partial q}{\\partial t}$ in addition to $\\frac{\\partial \\hat H}{\\partial q}$ and $-\\frac{\\partial p}{\\partial t}$ so that our approximation $\\hat H$ in truth represents the hamiltonian. At test time we then set $\\frac{\\partial q}{\\partial t}=\\frac{\\partial \\hat H}{\\partial p}$ and $\\frac{\\partial p}{\\partial t}=-\\frac{\\partial\\hat H}{\\partial q}$ when running things through the ODE solver.\n",
    "\n",
    "We have examples comparing the Hamiltonian method to just naively computing predictions and typically the Hamiltonian works much better."
   ]
  },
  {
   "cell_type": "code",
   "execution_count": 1,
   "metadata": {},
   "outputs": [],
   "source": [
    "import numpy as np\n",
    "import torch\n",
    "import torch.nn as nn\n",
    "import matplotlib.pyplot as plt\n",
    "import matplotlib.animation as animation\n",
    "from tqdm import tqdm\n",
    "from scipy.integrate import odeint\n",
    "from data import get_orbit,random_config,sample_orbits,sample_orbits_grouped\n",
    "from scipy.integrate import odeint\n",
    "from torchdiffeq import odeint as todeint\n",
    "from torch.utils.data import Dataset, DataLoader\n",
    "import torch.nn.functional as F\n",
    "import os.path\n"
   ]
  },
  {
   "cell_type": "markdown",
   "metadata": {},
   "source": [
    "### Dataset generation and initialization\n",
    "- The following code should take about ~10 minutes to run assuming you do not have the data already downloaded"
   ]
  },
  {
   "cell_type": "code",
   "execution_count": 2,
   "metadata": {},
   "outputs": [
    {
     "name": "stdout",
     "output_type": "stream",
     "text": [
      "torch.Size([100000, 12])\n"
     ]
    }
   ],
   "source": [
    "class PlanetaryData(Dataset):\n",
    "    def __init__(self, x, dxdt):\n",
    "        self.x = x\n",
    "        self.dxdt = dxdt\n",
    "        \n",
    "    def __len__(self):\n",
    "        return len(self.x)\n",
    "    \n",
    "    def __getitem__(self, idx):\n",
    "        return self.x[idx], self.dxdt[idx]\n",
    "fname = \"smaller_dataset\"\n",
    "if not os.path.isfile(f\"{fname}_x_coords.pt\"):\n",
    "\n",
    "    data,_ = sample_orbits(time_steps = 80,trials = 5000,t_span=[0,20])\n",
    "    x = torch.tensor( data['coords'], requires_grad=True, dtype=torch.float32)\n",
    "    # test_x = torch.tensor( data['test_coords'], requires_grad=True, dtype=torch.float32)\n",
    "    dxdt = torch.Tensor(data['dcoords'])\n",
    "    torch.save(x,f\"{fname}_x_coords.pt\")\n",
    "    torch.save(dxdt,f\"{fname}_dxdt_vals.pt\")\n",
    "else:\n",
    "    x = torch.load(f\"{fname}_x_coords.pt\")\n",
    "    dxdt = torch.load(f\"{fname}_dxdt_vals.pt\")\n",
    "print(x.shape)"
   ]
  },
  {
   "cell_type": "code",
   "execution_count": 3,
   "metadata": {},
   "outputs": [
    {
     "name": "stdout",
     "output_type": "stream",
     "text": [
      "Dataset has 100000 examples\n"
     ]
    }
   ],
   "source": [
    "dset = PlanetaryData(x,dxdt)\n",
    "print(f\"Dataset has {len(dset)} examples\")\n",
    "epochs = 4\n",
    "batch_size  = 64\n",
    "dloader = DataLoader(dset,batch_size,shuffle=True)"
   ]
  },
  {
   "cell_type": "markdown",
   "metadata": {},
   "source": [
    "### No Symmetry model\n",
    "Here is our first implementation of the model with no additional invariance or equivariances specified. We found that it generally did not have too much trouble converging, but usually did not produce very good results."
   ]
  },
  {
   "cell_type": "code",
   "execution_count": 4,
   "metadata": {},
   "outputs": [],
   "source": [
    "class HNN(torch.nn.Module):\n",
    "    \"\"\"Generic class to implement predicting the derivative of the three body system\n",
    "    \"\"\"\n",
    "    def __init__(self, input_dim,nn_type=\"Hamiltonian\"):\n",
    "        super(HNN, self).__init__()\n",
    "        output_dim = input_dim if nn_type == \"Feedforward\" else 1\n",
    "        if nn_type == \"Hamiltonian\" or nn_type == \"Feedforward\":\n",
    "            self.layers = nn.Sequential(nn.Linear(input_dim,200),\n",
    "                                                  nn.Tanh(),\n",
    "                                                  nn.Linear(200,200),\n",
    "                                                  nn.Tanh(),\n",
    "                                                  nn.Linear(200,output_dim))\n",
    "        else:\n",
    "            raise ValueError(f\"{nn_type} is not a valid type please choose between Hamiltonian or Feedforward\")\n",
    "        self.nn_type = nn_type\n",
    "\n",
    "        # We make a permutation matrix M to later permute the derivatives so our loss acheives:\n",
    "        # dp/dt=-dH/dq, dq/dt=dH/dp\n",
    "        M = torch.eye(input_dim)\n",
    "        self.M = torch.cat([M[input_dim//2:], -M[:input_dim//2]]) \n",
    "\n",
    "    def forward(self, x):\n",
    "        # We just pass it through the layers\n",
    "        return self.layers(x)\n",
    "\n",
    "    def time_derivative(self, x, t=None):\n",
    "        \"\"\"Returns the prediction of our function\n",
    "\n",
    "        Args:\n",
    "            x (torch.Tensor): The state of the system\n",
    "            t (torch.Tensor, optional): The current time step. Defaults to None.\n",
    "        \"\"\"\n",
    "        # IF we are just doing a feedforward we try to predict the derivatives directly\n",
    "        if self.nn_type == \"Feedforward\":\n",
    "            return self.layers(x)\n",
    "\n",
    "        # Otherwise we calculate -dH/dq as our prediction for dp/dt and dH/dp as our prediction for dq/dt\n",
    "        F2 = self.forward(x) \n",
    "\n",
    "        dF2 = torch.autograd.grad(F2.sum(), x, create_graph=True)[0] \n",
    "        hamiltonian_derivative = dF2 @ self.M.T\n",
    "\n",
    "        return hamiltonian_derivative\n"
   ]
  },
  {
   "cell_type": "markdown",
   "metadata": {},
   "source": [
    "### Loss and Training results\n",
    "Below we visualize the loss over time. Interestingly, we see periodic spikes in the training loss. Additionally, the loss generally did not decrease very much indicating that this is a very hard problem to learn."
   ]
  },
  {
   "cell_type": "code",
   "execution_count": 8,
   "metadata": {},
   "outputs": [
    {
     "name": "stderr",
     "output_type": "stream",
     "text": [
      "100%|██████████| 1563/1563 [04:50<00:00,  5.39it/s]\n"
     ]
    },
    {
     "data": {
      "image/png": "[encoded data removed]",
      "text/plain": [
       "<Figure size 640x480 with 1 Axes>"
      ]
     },
     "metadata": {},
     "output_type": "display_data"
    }
   ],
   "source": [
    "epochs = 1\n",
    "model = HNN(12,\"Feedforward\")\n",
    "opt = torch.optim.Adam(model.parameters(),1e-3)\n",
    "losses = []\n",
    "for epoch in range(epochs):\n",
    "    for x,dxdt in tqdm(dloader):\n",
    "        opt.zero_grad()\n",
    "        pred = model.time_derivative(x)\n",
    "        loss = F.mse_loss(pred,dxdt)\n",
    "        loss.backward()\n",
    "        opt.step()\n",
    "        losses.append(loss.item())\n",
    "plt.plot(losses)\n",
    "plt.title(\"Loss over time\")\n",
    "plt.show()"
   ]
  },
  {
   "cell_type": "markdown",
   "metadata": {},
   "source": [
    "### Visualizing results"
   ]
  },
  {
   "cell_type": "code",
   "execution_count": 9,
   "metadata": {},
   "outputs": [
    {
     "name": "stderr",
     "output_type": "stream",
     "text": [
      "/tmp/ipykernel_138063/19698718.py:57: MatplotlibDeprecationWarning: Setting data with a non sequence type is deprecated since 3.7 and will be remove two minor releases later\n",
      "  line.set_data(positions[i, j, 0], positions[i, j, 1])\n",
      "/tmp/ipykernel_138063/19698718.py:61: MatplotlibDeprecationWarning: Setting data with a non sequence type is deprecated since 3.7 and will be remove two minor releases later\n",
      "  line_approx.set_data(positions_approx[i, j, 0], positions_approx[i, j, 1])\n"
     ]
    },
    {
     "data": {
      "image/png": "[encoded data removed]",
      "text/plain": [
       "<Figure size 640x480 with 1 Axes>"
      ]
     },
     "metadata": {},
     "output_type": "display_data"
    }
   ],
   "source": [
    "def model_update(t, state, model):\n",
    "    state = state.reshape(-1,5)\n",
    "\n",
    "    deriv = np.zeros_like(state)\n",
    "    np_x = state[:,1:] # drop mass\n",
    "    np_x = np_x.T.flatten()[None, :]\n",
    "    x = torch.tensor( np_x, requires_grad=True, dtype=torch.float32)\n",
    "    dx_hat = model.time_derivative(x)\n",
    "    deriv[:,1:] = dx_hat.detach().data.numpy().reshape(4,3).T\n",
    "    return deriv.reshape(-1)\n",
    "num_steps = 1000\n",
    "time_span = [0,40]\n",
    "file_name = \"vanilla_nn_example\"\n",
    "update_fn = lambda t, y0: model_update(t, y0, model)\n",
    "state = random_config(nu=1e-2, min_radius=.9, max_radius=1.2)\n",
    "v, settings = get_orbit(state, t_points=num_steps, t_span=time_span, update_fn=update_fn)\n",
    "true_orbit,_ =get_orbit(state, t_points=num_steps, t_span=time_span)\n",
    "\n",
    "\n",
    "positions_approx = v.transpose(2,0,1)[:,:,1:3]\n",
    "positions= true_orbit.transpose(2,0,1)[:,:,1:3]\n",
    "# Animation\n",
    "# Animation setup\n",
    "fig, ax = plt.subplots()\n",
    "ax.set_xlim(-30, 30)\n",
    "ax.set_ylim(-30, 30)\n",
    "\n",
    "# Original positions visualized with 'o' markers and solid lines for trajectories\n",
    "lines = [ax.plot([], [], 'o')[0] for _ in range(3)]\n",
    "# Store colors for reuse with approximated trajectories\n",
    "colors = [f\"C{_}\" for _ in range(3)]\n",
    "trajectories = [ax.plot([], [], '-', linewidth=0.5, color=colors[_])[0] for _ in range(3)]\n",
    "\n",
    "# Approximated positions visualized with 'x' markers and dotted lines for trajectories\n",
    "# Use the same colors as the original trajectories\n",
    "lines_approx = [ax.plot([], [], 'x', color=colors[_])[0] for _ in range(3)]\n",
    "trajectories_approx = [ax.plot([], [], '--', linewidth=0.5, color=colors[_])[0] for _ in range(3)]\n",
    "\n",
    "def init():\n",
    "    for line in lines + lines_approx:\n",
    "        line.set_data([], [])\n",
    "    for traj in trajectories + trajectories_approx:\n",
    "        traj.set_data([], [])\n",
    "    return lines + trajectories + lines_approx + trajectories_approx\n",
    "\n",
    "def animate(i):\n",
    "    if len(positions[:i,:,0]) != 0:\n",
    "        all_x = np.concatenate((positions[:i, :, 0].flatten(), positions_approx[:i, :, 0].flatten()))\n",
    "        all_y = np.concatenate((positions[:i, :, 1].flatten(), positions_approx[:i, :, 1].flatten()))\n",
    "        min_x, max_x = all_x.min() - 10, all_x.max() + 10\n",
    "        min_y, max_y = all_y.min() - 10, all_y.max() + 10\n",
    "        ax.set_xlim(min_x, max_x)\n",
    "        ax.set_ylim(min_y, max_y)\n",
    "\n",
    "    for j, (line, line_approx) in enumerate(zip(lines, lines_approx)):\n",
    "        # Update original positions and trajectories\n",
    "        line.set_data(positions[i, j, 0], positions[i, j, 1])\n",
    "        trajectories[j].set_data(positions[:i, j, 0], positions[:i, j, 1])\n",
    "        \n",
    "        # Update approximated positions and trajectories\n",
    "        line_approx.set_data(positions_approx[i, j, 0], positions_approx[i, j, 1])\n",
    "        trajectories_approx[j].set_data(positions_approx[:i, j, 0], positions_approx[:i, j, 1])\n",
    "\n",
    "    return lines + trajectories + lines_approx + trajectories_approx\n",
    "\n",
    "# Assuming num_steps is defined\n",
    "ani = animation.FuncAnimation(fig, animate, frames=num_steps, init_func=init, blit=True, interval=1)\n",
    "\n",
    "# To save the animation\n",
    "writergif = animation.PillowWriter(fps=30)\n",
    "ani.save(f'{file_name}.gif', writer=writergif)\n",
    "\n",
    "plt.show()"
   ]
  },
  {
   "cell_type": "markdown",
   "metadata": {},
   "source": [
    "### Discussion\n",
    "Typically both the Hamiltonian and Regular Neural Network did a very poor job at predicting position. This is most likely due to the chaotic nature of the system. Also, it seems like it is likely just memorizing individual paths. So when it comes to generalization, the model does not perform very well at all. At test time, it only seems to be averaging over learned paths.\n",
    "\n",
    "Note that in these visualizations. The solid circles represent the actual trajectories and the crosses represent the predictions.\n",
    "\n",
    "#### Feedforward Neural Network Version\n",
    "![](examples/vanilla_nn_example.gif)\n",
    "\n",
    "#### Hamiltonian Version\n",
    "![](examples/hamiltonian_example_no_symmetry.gif)"
   ]
  },
  {
   "cell_type": "markdown",
   "metadata": {},
   "source": [
    "# Equivariant Hamiltonian\n",
    "We now implement a version of the Hamiltonian that has the added invariances/equivariances present in the problem.\n",
    "\n",
    "The first invariance we add is invariance under translation. The velocities and accelerations of the three planets only depend on relative positions to one another. So to incorporate this invariance we pick on of the bodies and subtract the positions of the other two from this original. In this way we shift the planets closer to the origin. We can write this formally out as:\n",
    "$$\n",
    "NN(x)= \\hat H(p2-p1,p3-p1,v1,v2,v3)\n",
    "$$\n",
    "\n",
    "We also add invariance under rotation. We note that while the actual positions and velocities should be equivariant, the actual hamiltonian is invariant under rotation. We can achieve rotational invarince by making the neural network a function of only the inner products between any two vectors. Written out this is:\n",
    "$$\n",
    "NN(x)=\\hat H((\\langle p_i,p_j \\rangle)_{i,j=1}^3,(\\langle q_i,q_j \\rangle)_{i,j=1}^3,(\\langle p_i,q_j \\rangle)_{i,j=1}^3)\n",
    "$$\n",
    "\n",
    "Lastly, we add permutation invariance. This can be done by permuting the order in which the planets are fed into the model and then summing up the results.\n",
    "$$\n",
    "NN(x)=\\sum_{\\sigma \\in S_3}\\hat H(p_{\\sigma(1)},p_{\\sigma(2)},p_{\\sigma(3)},q_{\\sigma(1)},q_{\\sigma(2)},q_{\\sigma(3)})\n",
    "$$\n",
    "\n",
    "We combine each of these three methods to produce the result below. "
   ]
  },
  {
   "cell_type": "code",
   "execution_count": 10,
   "metadata": {},
   "outputs": [],
   "source": [
    "from itertools import permutations\n",
    "class EquivariantHNN(torch.nn.Module):\n",
    "    \"\"\"Generic class to implement predicting the derivative of the three body system\n",
    "    \"\"\"\n",
    "    def __init__(self, input_dim):\n",
    "        super(EquivariantHNN, self).__init__()\n",
    "        self.layers = nn.Sequential(nn.Linear(15,200),\n",
    "                                                  nn.Tanh(),\n",
    "                                                  nn.Linear(200,200),\n",
    "                                                  nn.Tanh(),\n",
    "                                                  nn.Linear(200,200),\n",
    "                                                  nn.Tanh(),\n",
    "                                                  nn.Linear(200,200),\n",
    "                                                  nn.Tanh(),\n",
    "                                                  nn.Linear(200,1))\n",
    "\n",
    "        # We make a permutation matrix M to later permute the derivatives so our loss acheives:\n",
    "        # dp/dt=-dH/dq, dq/dt=dH/dp\n",
    "        M = torch.eye(input_dim)\n",
    "        self.M = torch.cat([M[input_dim//2:], -M[:input_dim//2]]) \n",
    "\n",
    "    def equivariant_fn(self,x):\n",
    "        # print(x.shape)\n",
    "        p1 = x[:,[True,False,False,True,False,False]+[False]*6]\n",
    "        p2 = x[:,[False,True,False,False,True,False]+[False]*6]\n",
    "        p3 = x[:,[False,False,True,False,False,True]+[False]*6]\n",
    "        s1 = x[:,[False]*6+[True,False,False,True,False,False]]\n",
    "        s2 = x[:,[False]*6+[False,True,False,False,True,False]]\n",
    "        s3 = x[:,[False]*6+[False,False,True,False,False,True]]\n",
    "\n",
    "        ps = [p1,p2,p3]\n",
    "        ss = [s1,s2,s3]\n",
    "        perms = permutations([1,2,0])\n",
    "\n",
    "        # Cycling through each permutation ensures invariance under permutation\n",
    "        outs = 0\n",
    "        for perm in perms:\n",
    "            # print(perm)\n",
    "            p_1,p_2,p_3 = ps[perm[0]],ps[perm[1]],ps[perm[2]]\n",
    "            s_1,s_2,s_3 = ss[perm[0]],ss[perm[1]],ss[perm[2]]\n",
    "\n",
    "            # This ensures invariance under translation\n",
    "            p_2 =p2- p_1\n",
    "            p_3 = p_3-p_1\n",
    "\n",
    "            # This ensures invariance under rotation\n",
    "            units = [p_2,p_3,s_1,s_2,s_3]\n",
    "            inner_prods = []\n",
    "            for i  in range(len(units)):\n",
    "                for j in range(i,len(units)):\n",
    "                    inner_prods.append((units[i]*units[j]).sum(dim=-1))\n",
    "            inner_prods = torch.dstack(inner_prods).squeeze(0)\n",
    "            outs+= self.layers(inner_prods)\n",
    "        return outs/6\n",
    "\n",
    "    def forward(self, x):\n",
    "        # We just pass it through the layers\n",
    "        return self.equivariant_fn(x)\n",
    "\n",
    "    def time_derivative(self, x, t=None):\n",
    "        \"\"\"Returns the prediction of our function\n",
    "\n",
    "        Args:\n",
    "            x (torch.Tensor): The state of the system\n",
    "            t (torch.Tensor, optional): The current time step. Defaults to None.\n",
    "        \"\"\"\n",
    "\n",
    "        # We calculate -dH/dq as our prediction for dp/dt and dH/dp as our prediction for dq/dt\n",
    "        F2 = self.forward(x) \n",
    "\n",
    "        dF2 = torch.autograd.grad(F2.sum(), x, create_graph=True)[0] \n",
    "        hamiltonian_derivative = dF2 @ self.M.T\n",
    "\n",
    "        return hamiltonian_derivative"
   ]
  },
  {
   "cell_type": "markdown",
   "metadata": {},
   "source": [
    "### Loss and Training results\n",
    "Below we plot the training loss over time of both the acceleration and velocity. This is done to figure out which component is harder for the model to learn."
   ]
  },
  {
   "cell_type": "code",
   "execution_count": 12,
   "metadata": {},
   "outputs": [
    {
     "name": "stderr",
     "output_type": "stream",
     "text": [
      "100%|██████████| 1563/1563 [02:42<00:00,  9.62it/s]\n"
     ]
    },
    {
     "data": {
      "image/png": "[encoded data removed]",
      "text/plain": [
       "<Figure size 640x480 with 1 Axes>"
      ]
     },
     "metadata": {},
     "output_type": "display_data"
    },
    {
     "data": {
      "text/plain": [
       "Text(0.5, 1.0, 'Loss for Accelerations')"
      ]
     },
     "execution_count": 12,
     "metadata": {},
     "output_type": "execute_result"
    },
    {
     "data": {
      "image/png": "[encoded data removed]",
      "text/plain": [
       "<Figure size 640x480 with 1 Axes>"
      ]
     },
     "metadata": {},
     "output_type": "display_data"
    }
   ],
   "source": [
    "epochs = 1\n",
    "model = EquivariantHNN(12)\n",
    "opt = torch.optim.Adam(model.parameters(),1e-3)\n",
    "losses1 = []\n",
    "losses2 = []\n",
    "for epoch in range(epochs):\n",
    "    for x,dxdt in tqdm(dloader):\n",
    "        opt.zero_grad()\n",
    "        pred = model.time_derivative(x)\n",
    "        loss1 = F.mse_loss(pred[:,:3],dxdt[:,:3])\n",
    "        loss2= F.mse_loss(pred[:,3:],dxdt[:,3:])\n",
    "        loss = loss1+loss2**2\n",
    "        loss.backward()\n",
    "        opt.step()\n",
    "        losses1.append(loss1.item())\n",
    "        losses2.append(loss2.item())\n",
    "plt.plot(losses1)\n",
    "plt.title(\"Loss for Velocities\")\n",
    "plt.show()\n",
    "plt.plot(losses2)\n",
    "plt.title(\"Loss for Accelerations\")"
   ]
  },
  {
   "cell_type": "code",
   "execution_count": 13,
   "metadata": {},
   "outputs": [
    {
     "name": "stderr",
     "output_type": "stream",
     "text": [
      "/tmp/ipykernel_138063/1772924157.py:57: MatplotlibDeprecationWarning: Setting data with a non sequence type is deprecated since 3.7 and will be remove two minor releases later\n",
      "  line.set_data(positions[i, j, 0], positions[i, j, 1])\n",
      "/tmp/ipykernel_138063/1772924157.py:61: MatplotlibDeprecationWarning: Setting data with a non sequence type is deprecated since 3.7 and will be remove two minor releases later\n",
      "  line_approx.set_data(positions_approx[i, j, 0], positions_approx[i, j, 1])\n"
     ]
    },
    {
     "data": {
      "image/png": "[encoded data removed]",
      "text/plain": [
       "<Figure size 640x480 with 1 Axes>"
      ]
     },
     "metadata": {},
     "output_type": "display_data"
    }
   ],
   "source": [
    "def model_update(t, state, model):\n",
    "    state = state.reshape(-1,5)\n",
    "\n",
    "    deriv = np.zeros_like(state)\n",
    "    np_x = state[:,1:] # drop mass\n",
    "    np_x = np_x.T.flatten()[None, :]\n",
    "    x = torch.tensor( np_x, requires_grad=True, dtype=torch.float32)\n",
    "    dx_hat = model.time_derivative(x)\n",
    "    deriv[:,1:] = dx_hat.detach().data.numpy().reshape(4,3).T\n",
    "    return deriv.reshape(-1)\n",
    "num_steps = 500\n",
    "time_span = [0,40]\n",
    "file_name = \"equivariant_hnn\"\n",
    "update_fn = lambda t, y0: model_update(t, y0, model)\n",
    "state = random_config(nu=1e-2, min_radius=.9, max_radius=1.2)\n",
    "v, settings = get_orbit(state, t_points=num_steps, t_span=time_span, update_fn=update_fn)\n",
    "true_orbit,_ =get_orbit(state, t_points=num_steps, t_span=time_span)\n",
    "\n",
    "\n",
    "positions_approx = v.transpose(2,0,1)[:,:,1:3]\n",
    "positions= true_orbit.transpose(2,0,1)[:,:,1:3]\n",
    "# Animation\n",
    "# Animation setup\n",
    "fig, ax = plt.subplots()\n",
    "ax.set_xlim(-30, 30)\n",
    "ax.set_ylim(-30, 30)\n",
    "\n",
    "# Original positions visualized with 'o' markers and solid lines for trajectories\n",
    "lines = [ax.plot([], [], 'o')[0] for _ in range(3)]\n",
    "# Store colors for reuse with approximated trajectories\n",
    "colors = [f\"C{_}\" for _ in range(3)]\n",
    "trajectories = [ax.plot([], [], '-', linewidth=0.5, color=colors[_])[0] for _ in range(3)]\n",
    "\n",
    "# Approximated positions visualized with 'x' markers and dotted lines for trajectories\n",
    "# Use the same colors as the original trajectories\n",
    "lines_approx = [ax.plot([], [], 'x', color=colors[_])[0] for _ in range(3)]\n",
    "trajectories_approx = [ax.plot([], [], '--', linewidth=0.5, color=colors[_])[0] for _ in range(3)]\n",
    "\n",
    "def init():\n",
    "    for line in lines + lines_approx:\n",
    "        line.set_data([], [])\n",
    "    for traj in trajectories + trajectories_approx:\n",
    "        traj.set_data([], [])\n",
    "    return lines + trajectories + lines_approx + trajectories_approx\n",
    "\n",
    "def animate(i):\n",
    "    if len(positions[:i,:,0]) != 0:\n",
    "        all_x = np.concatenate((positions[:i, :, 0].flatten(), positions_approx[:i, :, 0].flatten()))\n",
    "        all_y = np.concatenate((positions[:i, :, 1].flatten(), positions_approx[:i, :, 1].flatten()))\n",
    "        min_x, max_x = all_x.min() - 10, all_x.max() + 10\n",
    "        min_y, max_y = all_y.min() - 10, all_y.max() + 10\n",
    "        ax.set_xlim(min_x, max_x)\n",
    "        ax.set_ylim(min_y, max_y)\n",
    "\n",
    "    for j, (line, line_approx) in enumerate(zip(lines, lines_approx)):\n",
    "        # Update original positions and trajectories\n",
    "        line.set_data(positions[i, j, 0], positions[i, j, 1])\n",
    "        trajectories[j].set_data(positions[:i, j, 0], positions[:i, j, 1])\n",
    "        \n",
    "        # Update approximated positions and trajectories\n",
    "        line_approx.set_data(positions_approx[i, j, 0], positions_approx[i, j, 1])\n",
    "        trajectories_approx[j].set_data(positions_approx[:i, j, 0], positions_approx[:i, j, 1])\n",
    "\n",
    "    return lines + trajectories + lines_approx + trajectories_approx\n",
    "\n",
    "# Assuming num_steps is defined\n",
    "ani = animation.FuncAnimation(fig, animate, frames=num_steps, init_func=init, blit=True, interval=1)\n",
    "\n",
    "# To save the animation\n",
    "writergif = animation.PillowWriter(fps=30)\n",
    "ani.save(f'{file_name}.gif', writer=writergif)\n",
    "\n",
    "plt.show()"
   ]
  },
  {
   "cell_type": "markdown",
   "metadata": {},
   "source": [
    "### Discussion\n",
    "The Equivariant Hamiltonian acheived much better results on test data than the non equivariant versions. It could predict an accurate path for the first second or so. However, once we got past the initial couple of seconds it would completely diverge from the true path and not seem to model accurate paths at all.\n",
    "\n",
    "Note that in these visualizations. The solid circles represent the actual trajectories and the crosses represent the predictions.\n",
    "\n",
    "![](examples/equivariant_hnn.gif)"
   ]
  },
  {
   "cell_type": "markdown",
   "metadata": {},
   "source": [
    "# Neural ODE\n",
    "A Neural ODE works by treating a Neural Network $f$ as a derivative in some differential equation. We then use an ODE solver to integrate forward in time and then backpropagate through the ODE solver. This can be viewed as smoothing or continuizing the normal feedforward network since we can arbitrarily choose the step size.\n",
    "\n",
    "These most direct implementations of a Neural ODE below incorporate the most symmetries. The first implementation defines the derivative of position to be the velocity, assumes the derivative of velocity is only dependent on position, and incorporates both conservation of momentum and permutation symmetry.\n",
    "\n",
    "The permutation symmetry is accomplished by running the model on all six permutations of the inputs. Instead of predicting the trajectories for all three bodies, each permutation only predicts one body. All six permutations therefore predict a total of six different bodies. The trajectories (or more properly the accelerations) are then averaged to produce only three bodies in a way that is permutation invariant. All of these symmetries are incorporated using carefully chosen tensor products."
   ]
  },
  {
   "cell_type": "code",
   "execution_count": 25,
   "metadata": {},
   "outputs": [
    {
     "name": "stderr",
     "output_type": "stream",
     "text": [
      "  0%|          | 0/5000 [00:00<?, ?it/s]"
     ]
    },
    {
     "name": "stderr",
     "output_type": "stream",
     "text": [
      "  1%|          | 50/5000 [00:26<40:22,  2.04it/s]"
     ]
    },
    {
     "name": "stdout",
     "output_type": "stream",
     "text": [
      "Iter: 50, running avg elbo: -0.8080, loss\n"
     ]
    },
    {
     "name": "stderr",
     "output_type": "stream",
     "text": [
      "  2%|▏         | 100/5000 [00:51<39:39,  2.06it/s]"
     ]
    },
    {
     "name": "stdout",
     "output_type": "stream",
     "text": [
      "Iter: 100, running avg elbo: -0.7399, loss\n"
     ]
    },
    {
     "name": "stderr",
     "output_type": "stream",
     "text": [
      "  3%|▎         | 150/5000 [01:15<37:56,  2.13it/s]"
     ]
    },
    {
     "name": "stdout",
     "output_type": "stream",
     "text": [
      "Iter: 150, running avg elbo: -0.7156, loss\n"
     ]
    },
    {
     "name": "stderr",
     "output_type": "stream",
     "text": [
      "  4%|▍         | 200/5000 [01:39<38:52,  2.06it/s]"
     ]
    },
    {
     "name": "stdout",
     "output_type": "stream",
     "text": [
      "Iter: 200, running avg elbo: -0.7011, loss\n"
     ]
    },
    {
     "name": "stderr",
     "output_type": "stream",
     "text": [
      "  5%|▌         | 250/5000 [02:02<37:59,  2.08it/s]"
     ]
    },
    {
     "name": "stdout",
     "output_type": "stream",
     "text": [
      "Iter: 250, running avg elbo: -0.6915, loss\n"
     ]
    },
    {
     "name": "stderr",
     "output_type": "stream",
     "text": [
      "  6%|▌         | 300/5000 [02:24<34:58,  2.24it/s]"
     ]
    },
    {
     "name": "stdout",
     "output_type": "stream",
     "text": [
      "Iter: 300, running avg elbo: -0.6855, loss\n"
     ]
    },
    {
     "name": "stderr",
     "output_type": "stream",
     "text": [
      "  7%|▋         | 350/5000 [02:46<33:33,  2.31it/s]"
     ]
    },
    {
     "name": "stdout",
     "output_type": "stream",
     "text": [
      "Iter: 350, running avg elbo: -0.6806, loss\n"
     ]
    },
    {
     "name": "stderr",
     "output_type": "stream",
     "text": [
      "  8%|▊         | 400/5000 [03:08<32:33,  2.35it/s]"
     ]
    },
    {
     "name": "stdout",
     "output_type": "stream",
     "text": [
      "Iter: 400, running avg elbo: -0.6769, loss\n"
     ]
    },
    {
     "name": "stderr",
     "output_type": "stream",
     "text": [
      "  9%|▉         | 450/5000 [03:30<34:06,  2.22it/s]"
     ]
    },
    {
     "name": "stdout",
     "output_type": "stream",
     "text": [
      "Iter: 450, running avg elbo: -0.6732, loss\n"
     ]
    },
    {
     "name": "stderr",
     "output_type": "stream",
     "text": [
      " 10%|█         | 500/5000 [03:51<31:25,  2.39it/s]"
     ]
    },
    {
     "name": "stdout",
     "output_type": "stream",
     "text": [
      "Iter: 500, running avg elbo: -0.6703, loss\n"
     ]
    },
    {
     "name": "stderr",
     "output_type": "stream",
     "text": [
      " 11%|█         | 550/5000 [04:13<31:06,  2.38it/s]"
     ]
    },
    {
     "name": "stdout",
     "output_type": "stream",
     "text": [
      "Iter: 550, running avg elbo: -0.6679, loss\n"
     ]
    },
    {
     "name": "stderr",
     "output_type": "stream",
     "text": [
      " 12%|█▏        | 600/5000 [04:34<31:26,  2.33it/s]"
     ]
    },
    {
     "name": "stdout",
     "output_type": "stream",
     "text": [
      "Iter: 600, running avg elbo: -0.6663, loss\n"
     ]
    },
    {
     "name": "stderr",
     "output_type": "stream",
     "text": [
      " 13%|█▎        | 650/5000 [04:55<30:12,  2.40it/s]"
     ]
    },
    {
     "name": "stdout",
     "output_type": "stream",
     "text": [
      "Iter: 650, running avg elbo: -0.6645, loss\n"
     ]
    },
    {
     "name": "stderr",
     "output_type": "stream",
     "text": [
      " 14%|█▍        | 700/5000 [05:16<30:19,  2.36it/s]"
     ]
    },
    {
     "name": "stdout",
     "output_type": "stream",
     "text": [
      "Iter: 700, running avg elbo: -0.6626, loss\n"
     ]
    },
    {
     "name": "stderr",
     "output_type": "stream",
     "text": [
      " 15%|█▌        | 750/5000 [05:38<30:16,  2.34it/s]"
     ]
    },
    {
     "name": "stdout",
     "output_type": "stream",
     "text": [
      "Iter: 750, running avg elbo: -0.6610, loss\n"
     ]
    },
    {
     "name": "stderr",
     "output_type": "stream",
     "text": [
      " 16%|█▌        | 800/5000 [05:59<29:46,  2.35it/s]"
     ]
    },
    {
     "name": "stdout",
     "output_type": "stream",
     "text": [
      "Iter: 800, running avg elbo: -0.6596, loss\n"
     ]
    },
    {
     "name": "stderr",
     "output_type": "stream",
     "text": [
      " 17%|█▋        | 850/5000 [06:20<29:09,  2.37it/s]"
     ]
    },
    {
     "name": "stdout",
     "output_type": "stream",
     "text": [
      "Iter: 850, running avg elbo: -0.6581, loss\n"
     ]
    },
    {
     "name": "stderr",
     "output_type": "stream",
     "text": [
      " 18%|█▊        | 900/5000 [06:41<29:01,  2.35it/s]"
     ]
    },
    {
     "name": "stdout",
     "output_type": "stream",
     "text": [
      "Iter: 900, running avg elbo: -0.6568, loss\n"
     ]
    },
    {
     "name": "stderr",
     "output_type": "stream",
     "text": [
      " 19%|█▉        | 950/5000 [07:02<28:08,  2.40it/s]"
     ]
    },
    {
     "name": "stdout",
     "output_type": "stream",
     "text": [
      "Iter: 950, running avg elbo: -0.6553, loss\n"
     ]
    },
    {
     "name": "stderr",
     "output_type": "stream",
     "text": [
      " 20%|██        | 1000/5000 [07:40<5:58:11,  5.37s/it]"
     ]
    },
    {
     "name": "stdout",
     "output_type": "stream",
     "text": [
      "Iter: 1000, running avg elbo: -0.6540, loss\n"
     ]
    },
    {
     "name": "stderr",
     "output_type": "stream",
     "text": [
      " 21%|██        | 1050/5000 [08:01<27:55,  2.36it/s]  "
     ]
    },
    {
     "name": "stdout",
     "output_type": "stream",
     "text": [
      "Iter: 1050, running avg elbo: -0.6527, loss\n"
     ]
    },
    {
     "name": "stderr",
     "output_type": "stream",
     "text": [
      " 22%|██▏       | 1100/5000 [08:22<27:51,  2.33it/s]"
     ]
    },
    {
     "name": "stdout",
     "output_type": "stream",
     "text": [
      "Iter: 1100, running avg elbo: -0.6515, loss\n"
     ]
    },
    {
     "name": "stderr",
     "output_type": "stream",
     "text": [
      " 23%|██▎       | 1150/5000 [08:43<26:37,  2.41it/s]"
     ]
    },
    {
     "name": "stdout",
     "output_type": "stream",
     "text": [
      "Iter: 1150, running avg elbo: -0.6505, loss\n"
     ]
    },
    {
     "name": "stderr",
     "output_type": "stream",
     "text": [
      " 24%|██▍       | 1200/5000 [09:04<26:15,  2.41it/s]"
     ]
    },
    {
     "name": "stdout",
     "output_type": "stream",
     "text": [
      "Iter: 1200, running avg elbo: -0.6493, loss\n"
     ]
    },
    {
     "name": "stderr",
     "output_type": "stream",
     "text": [
      " 25%|██▌       | 1250/5000 [09:25<27:15,  2.29it/s]"
     ]
    },
    {
     "name": "stdout",
     "output_type": "stream",
     "text": [
      "Iter: 1250, running avg elbo: -0.6481, loss\n"
     ]
    },
    {
     "name": "stderr",
     "output_type": "stream",
     "text": [
      " 26%|██▌       | 1300/5000 [09:46<27:45,  2.22it/s]"
     ]
    },
    {
     "name": "stdout",
     "output_type": "stream",
     "text": [
      "Iter: 1300, running avg elbo: -0.6470, loss\n"
     ]
    },
    {
     "name": "stderr",
     "output_type": "stream",
     "text": [
      " 27%|██▋       | 1350/5000 [10:07<26:43,  2.28it/s]"
     ]
    },
    {
     "name": "stdout",
     "output_type": "stream",
     "text": [
      "Iter: 1350, running avg elbo: -0.6461, loss\n"
     ]
    },
    {
     "name": "stderr",
     "output_type": "stream",
     "text": [
      " 28%|██▊       | 1400/5000 [10:29<27:08,  2.21it/s]"
     ]
    },
    {
     "name": "stdout",
     "output_type": "stream",
     "text": [
      "Iter: 1400, running avg elbo: -0.6450, loss\n"
     ]
    },
    {
     "name": "stderr",
     "output_type": "stream",
     "text": [
      " 29%|██▉       | 1450/5000 [10:50<25:09,  2.35it/s]"
     ]
    },
    {
     "name": "stdout",
     "output_type": "stream",
     "text": [
      "Iter: 1450, running avg elbo: -0.6440, loss\n"
     ]
    },
    {
     "name": "stderr",
     "output_type": "stream",
     "text": [
      " 30%|███       | 1500/5000 [11:11<24:48,  2.35it/s]"
     ]
    },
    {
     "name": "stdout",
     "output_type": "stream",
     "text": [
      "Iter: 1500, running avg elbo: -0.6429, loss\n"
     ]
    },
    {
     "name": "stderr",
     "output_type": "stream",
     "text": [
      " 31%|███       | 1550/5000 [11:33<24:31,  2.34it/s]"
     ]
    },
    {
     "name": "stdout",
     "output_type": "stream",
     "text": [
      "Iter: 1550, running avg elbo: -0.6422, loss\n"
     ]
    },
    {
     "name": "stderr",
     "output_type": "stream",
     "text": [
      " 32%|███▏      | 1600/5000 [11:55<23:19,  2.43it/s]"
     ]
    },
    {
     "name": "stdout",
     "output_type": "stream",
     "text": [
      "Iter: 1600, running avg elbo: -0.6416, loss\n"
     ]
    },
    {
     "name": "stderr",
     "output_type": "stream",
     "text": [
      " 33%|███▎      | 1650/5000 [12:16<24:04,  2.32it/s]"
     ]
    },
    {
     "name": "stdout",
     "output_type": "stream",
     "text": [
      "Iter: 1650, running avg elbo: -0.6408, loss\n"
     ]
    },
    {
     "name": "stderr",
     "output_type": "stream",
     "text": [
      " 34%|███▍      | 1700/5000 [12:37<23:07,  2.38it/s]"
     ]
    },
    {
     "name": "stdout",
     "output_type": "stream",
     "text": [
      "Iter: 1700, running avg elbo: -0.6401, loss\n"
     ]
    },
    {
     "name": "stderr",
     "output_type": "stream",
     "text": [
      " 35%|███▌      | 1750/5000 [12:59<23:28,  2.31it/s]"
     ]
    },
    {
     "name": "stdout",
     "output_type": "stream",
     "text": [
      "Iter: 1750, running avg elbo: -0.6392, loss\n"
     ]
    },
    {
     "name": "stderr",
     "output_type": "stream",
     "text": [
      " 36%|███▌      | 1800/5000 [13:21<22:35,  2.36it/s]"
     ]
    },
    {
     "name": "stdout",
     "output_type": "stream",
     "text": [
      "Iter: 1800, running avg elbo: -0.6383, loss\n"
     ]
    },
    {
     "name": "stderr",
     "output_type": "stream",
     "text": [
      " 37%|███▋      | 1850/5000 [13:43<22:28,  2.34it/s]"
     ]
    },
    {
     "name": "stdout",
     "output_type": "stream",
     "text": [
      "Iter: 1850, running avg elbo: -0.6374, loss\n"
     ]
    },
    {
     "name": "stderr",
     "output_type": "stream",
     "text": [
      " 38%|███▊      | 1900/5000 [14:05<22:13,  2.33it/s]"
     ]
    },
    {
     "name": "stdout",
     "output_type": "stream",
     "text": [
      "Iter: 1900, running avg elbo: -0.6367, loss\n"
     ]
    },
    {
     "name": "stderr",
     "output_type": "stream",
     "text": [
      " 39%|███▉      | 1950/5000 [14:27<21:32,  2.36it/s]"
     ]
    },
    {
     "name": "stdout",
     "output_type": "stream",
     "text": [
      "Iter: 1950, running avg elbo: -0.6359, loss\n"
     ]
    },
    {
     "name": "stderr",
     "output_type": "stream",
     "text": [
      " 40%|████      | 2000/5000 [15:05<4:25:40,  5.31s/it]"
     ]
    },
    {
     "name": "stdout",
     "output_type": "stream",
     "text": [
      "Iter: 2000, running avg elbo: -0.6351, loss\n"
     ]
    },
    {
     "name": "stderr",
     "output_type": "stream",
     "text": [
      " 41%|████      | 2050/5000 [15:26<20:38,  2.38it/s]  "
     ]
    },
    {
     "name": "stdout",
     "output_type": "stream",
     "text": [
      "Iter: 2050, running avg elbo: -0.6346, loss\n"
     ]
    },
    {
     "name": "stderr",
     "output_type": "stream",
     "text": [
      " 42%|████▏     | 2100/5000 [15:49<22:08,  2.18it/s]"
     ]
    },
    {
     "name": "stdout",
     "output_type": "stream",
     "text": [
      "Iter: 2100, running avg elbo: -0.6339, loss\n"
     ]
    },
    {
     "name": "stderr",
     "output_type": "stream",
     "text": [
      " 43%|████▎     | 2150/5000 [16:11<21:17,  2.23it/s]"
     ]
    },
    {
     "name": "stdout",
     "output_type": "stream",
     "text": [
      "Iter: 2150, running avg elbo: -0.6334, loss\n"
     ]
    },
    {
     "name": "stderr",
     "output_type": "stream",
     "text": [
      " 44%|████▍     | 2200/5000 [16:34<21:00,  2.22it/s]"
     ]
    },
    {
     "name": "stdout",
     "output_type": "stream",
     "text": [
      "Iter: 2200, running avg elbo: -0.6330, loss\n"
     ]
    },
    {
     "name": "stderr",
     "output_type": "stream",
     "text": [
      " 45%|████▌     | 2250/5000 [16:57<21:01,  2.18it/s]"
     ]
    },
    {
     "name": "stdout",
     "output_type": "stream",
     "text": [
      "Iter: 2250, running avg elbo: -0.6323, loss\n"
     ]
    },
    {
     "name": "stderr",
     "output_type": "stream",
     "text": [
      " 46%|████▌     | 2300/5000 [17:20<20:43,  2.17it/s]"
     ]
    },
    {
     "name": "stdout",
     "output_type": "stream",
     "text": [
      "Iter: 2300, running avg elbo: -0.6317, loss\n"
     ]
    },
    {
     "name": "stderr",
     "output_type": "stream",
     "text": [
      " 47%|████▋     | 2350/5000 [17:43<20:22,  2.17it/s]"
     ]
    },
    {
     "name": "stdout",
     "output_type": "stream",
     "text": [
      "Iter: 2350, running avg elbo: -0.6311, loss\n"
     ]
    },
    {
     "name": "stderr",
     "output_type": "stream",
     "text": [
      " 48%|████▊     | 2400/5000 [18:06<20:01,  2.16it/s]"
     ]
    },
    {
     "name": "stdout",
     "output_type": "stream",
     "text": [
      "Iter: 2400, running avg elbo: -0.6305, loss\n"
     ]
    },
    {
     "name": "stderr",
     "output_type": "stream",
     "text": [
      " 49%|████▉     | 2450/5000 [18:28<18:29,  2.30it/s]"
     ]
    },
    {
     "name": "stdout",
     "output_type": "stream",
     "text": [
      "Iter: 2450, running avg elbo: -0.6299, loss\n"
     ]
    },
    {
     "name": "stderr",
     "output_type": "stream",
     "text": [
      " 50%|█████     | 2500/5000 [18:51<19:51,  2.10it/s]"
     ]
    },
    {
     "name": "stdout",
     "output_type": "stream",
     "text": [
      "Iter: 2500, running avg elbo: -0.6293, loss\n"
     ]
    },
    {
     "name": "stderr",
     "output_type": "stream",
     "text": [
      " 51%|█████     | 2550/5000 [19:14<18:37,  2.19it/s]"
     ]
    },
    {
     "name": "stdout",
     "output_type": "stream",
     "text": [
      "Iter: 2550, running avg elbo: -0.6286, loss\n"
     ]
    },
    {
     "name": "stderr",
     "output_type": "stream",
     "text": [
      " 52%|█████▏    | 2600/5000 [19:37<18:00,  2.22it/s]"
     ]
    },
    {
     "name": "stdout",
     "output_type": "stream",
     "text": [
      "Iter: 2600, running avg elbo: -0.6281, loss\n"
     ]
    },
    {
     "name": "stderr",
     "output_type": "stream",
     "text": [
      " 53%|█████▎    | 2650/5000 [20:00<18:23,  2.13it/s]"
     ]
    },
    {
     "name": "stdout",
     "output_type": "stream",
     "text": [
      "Iter: 2650, running avg elbo: -0.6273, loss\n"
     ]
    },
    {
     "name": "stderr",
     "output_type": "stream",
     "text": [
      " 54%|█████▍    | 2700/5000 [20:23<17:46,  2.16it/s]"
     ]
    },
    {
     "name": "stdout",
     "output_type": "stream",
     "text": [
      "Iter: 2700, running avg elbo: -0.6266, loss\n"
     ]
    },
    {
     "name": "stderr",
     "output_type": "stream",
     "text": [
      " 55%|█████▌    | 2750/5000 [20:47<18:17,  2.05it/s]"
     ]
    },
    {
     "name": "stdout",
     "output_type": "stream",
     "text": [
      "Iter: 2750, running avg elbo: -0.6259, loss\n"
     ]
    },
    {
     "name": "stderr",
     "output_type": "stream",
     "text": [
      " 56%|█████▌    | 2800/5000 [21:10<16:57,  2.16it/s]"
     ]
    },
    {
     "name": "stdout",
     "output_type": "stream",
     "text": [
      "Iter: 2800, running avg elbo: -0.6255, loss\n"
     ]
    },
    {
     "name": "stderr",
     "output_type": "stream",
     "text": [
      " 57%|█████▋    | 2850/5000 [21:33<16:30,  2.17it/s]"
     ]
    },
    {
     "name": "stdout",
     "output_type": "stream",
     "text": [
      "Iter: 2850, running avg elbo: -0.6250, loss\n"
     ]
    },
    {
     "name": "stderr",
     "output_type": "stream",
     "text": [
      " 58%|█████▊    | 2900/5000 [21:57<16:34,  2.11it/s]"
     ]
    },
    {
     "name": "stdout",
     "output_type": "stream",
     "text": [
      "Iter: 2900, running avg elbo: -0.6245, loss\n"
     ]
    },
    {
     "name": "stderr",
     "output_type": "stream",
     "text": [
      " 59%|█████▉    | 2950/5000 [22:20<15:48,  2.16it/s]"
     ]
    },
    {
     "name": "stdout",
     "output_type": "stream",
     "text": [
      "Iter: 2950, running avg elbo: -0.6239, loss\n"
     ]
    },
    {
     "name": "stderr",
     "output_type": "stream",
     "text": [
      " 60%|██████    | 3000/5000 [23:00<2:59:21,  5.38s/it]"
     ]
    },
    {
     "name": "stdout",
     "output_type": "stream",
     "text": [
      "Iter: 3000, running avg elbo: -0.6234, loss\n"
     ]
    },
    {
     "name": "stderr",
     "output_type": "stream",
     "text": [
      " 61%|██████    | 3050/5000 [23:23<14:41,  2.21it/s]  "
     ]
    },
    {
     "name": "stdout",
     "output_type": "stream",
     "text": [
      "Iter: 3050, running avg elbo: -0.6226, loss\n"
     ]
    },
    {
     "name": "stderr",
     "output_type": "stream",
     "text": [
      " 62%|██████▏   | 3100/5000 [23:46<14:42,  2.15it/s]"
     ]
    },
    {
     "name": "stdout",
     "output_type": "stream",
     "text": [
      "Iter: 3100, running avg elbo: -0.6221, loss\n"
     ]
    },
    {
     "name": "stderr",
     "output_type": "stream",
     "text": [
      " 63%|██████▎   | 3150/5000 [24:09<14:14,  2.17it/s]"
     ]
    },
    {
     "name": "stdout",
     "output_type": "stream",
     "text": [
      "Iter: 3150, running avg elbo: -0.6215, loss\n"
     ]
    },
    {
     "name": "stderr",
     "output_type": "stream",
     "text": [
      " 64%|██████▍   | 3200/5000 [24:32<13:38,  2.20it/s]"
     ]
    },
    {
     "name": "stdout",
     "output_type": "stream",
     "text": [
      "Iter: 3200, running avg elbo: -0.6211, loss\n"
     ]
    },
    {
     "name": "stderr",
     "output_type": "stream",
     "text": [
      " 65%|██████▌   | 3250/5000 [24:55<13:18,  2.19it/s]"
     ]
    },
    {
     "name": "stdout",
     "output_type": "stream",
     "text": [
      "Iter: 3250, running avg elbo: -0.6204, loss\n"
     ]
    },
    {
     "name": "stderr",
     "output_type": "stream",
     "text": [
      " 66%|██████▌   | 3300/5000 [25:18<12:53,  2.20it/s]"
     ]
    },
    {
     "name": "stdout",
     "output_type": "stream",
     "text": [
      "Iter: 3300, running avg elbo: -0.6198, loss\n"
     ]
    },
    {
     "name": "stderr",
     "output_type": "stream",
     "text": [
      " 67%|██████▋   | 3350/5000 [25:41<12:11,  2.25it/s]"
     ]
    },
    {
     "name": "stdout",
     "output_type": "stream",
     "text": [
      "Iter: 3350, running avg elbo: -0.6193, loss\n"
     ]
    },
    {
     "name": "stderr",
     "output_type": "stream",
     "text": [
      " 68%|██████▊   | 3400/5000 [26:04<12:02,  2.22it/s]"
     ]
    },
    {
     "name": "stdout",
     "output_type": "stream",
     "text": [
      "Iter: 3400, running avg elbo: -0.6187, loss\n"
     ]
    },
    {
     "name": "stderr",
     "output_type": "stream",
     "text": [
      " 69%|██████▉   | 3450/5000 [26:27<12:00,  2.15it/s]"
     ]
    },
    {
     "name": "stdout",
     "output_type": "stream",
     "text": [
      "Iter: 3450, running avg elbo: -0.6181, loss\n"
     ]
    },
    {
     "name": "stderr",
     "output_type": "stream",
     "text": [
      " 70%|███████   | 3500/5000 [26:50<11:59,  2.08it/s]"
     ]
    },
    {
     "name": "stdout",
     "output_type": "stream",
     "text": [
      "Iter: 3500, running avg elbo: -0.6176, loss\n"
     ]
    },
    {
     "name": "stderr",
     "output_type": "stream",
     "text": [
      " 71%|███████   | 3550/5000 [27:13<11:08,  2.17it/s]"
     ]
    },
    {
     "name": "stdout",
     "output_type": "stream",
     "text": [
      "Iter: 3550, running avg elbo: -0.6170, loss\n"
     ]
    },
    {
     "name": "stderr",
     "output_type": "stream",
     "text": [
      " 72%|███████▏  | 3600/5000 [27:37<10:53,  2.14it/s]"
     ]
    },
    {
     "name": "stdout",
     "output_type": "stream",
     "text": [
      "Iter: 3600, running avg elbo: -0.6165, loss\n"
     ]
    },
    {
     "name": "stderr",
     "output_type": "stream",
     "text": [
      " 73%|███████▎  | 3650/5000 [28:00<10:30,  2.14it/s]"
     ]
    },
    {
     "name": "stdout",
     "output_type": "stream",
     "text": [
      "Iter: 3650, running avg elbo: -0.6163, loss\n"
     ]
    },
    {
     "name": "stderr",
     "output_type": "stream",
     "text": [
      " 74%|███████▍  | 3700/5000 [28:23<10:00,  2.17it/s]"
     ]
    },
    {
     "name": "stdout",
     "output_type": "stream",
     "text": [
      "Iter: 3700, running avg elbo: -0.6157, loss\n"
     ]
    },
    {
     "name": "stderr",
     "output_type": "stream",
     "text": [
      " 75%|███████▌  | 3750/5000 [28:47<09:41,  2.15it/s]"
     ]
    },
    {
     "name": "stdout",
     "output_type": "stream",
     "text": [
      "Iter: 3750, running avg elbo: -0.6153, loss\n"
     ]
    },
    {
     "name": "stderr",
     "output_type": "stream",
     "text": [
      " 76%|███████▌  | 3800/5000 [29:11<11:45,  1.70it/s]"
     ]
    },
    {
     "name": "stdout",
     "output_type": "stream",
     "text": [
      "Iter: 3800, running avg elbo: -0.6148, loss\n"
     ]
    },
    {
     "name": "stderr",
     "output_type": "stream",
     "text": [
      " 77%|███████▋  | 3850/5000 [29:37<08:35,  2.23it/s]"
     ]
    },
    {
     "name": "stdout",
     "output_type": "stream",
     "text": [
      "Iter: 3850, running avg elbo: -0.6144, loss\n"
     ]
    },
    {
     "name": "stderr",
     "output_type": "stream",
     "text": [
      " 78%|███████▊  | 3900/5000 [30:01<08:46,  2.09it/s]"
     ]
    },
    {
     "name": "stdout",
     "output_type": "stream",
     "text": [
      "Iter: 3900, running avg elbo: -0.6140, loss\n"
     ]
    },
    {
     "name": "stderr",
     "output_type": "stream",
     "text": [
      " 79%|███████▉  | 3950/5000 [30:25<08:13,  2.13it/s]"
     ]
    },
    {
     "name": "stdout",
     "output_type": "stream",
     "text": [
      "Iter: 3950, running avg elbo: -0.6137, loss\n"
     ]
    },
    {
     "name": "stderr",
     "output_type": "stream",
     "text": [
      " 80%|████████  | 4000/5000 [31:05<1:29:01,  5.34s/it]"
     ]
    },
    {
     "name": "stdout",
     "output_type": "stream",
     "text": [
      "Iter: 4000, running avg elbo: -0.6133, loss\n"
     ]
    },
    {
     "name": "stderr",
     "output_type": "stream",
     "text": [
      " 81%|████████  | 4050/5000 [31:29<07:25,  2.13it/s]  "
     ]
    },
    {
     "name": "stdout",
     "output_type": "stream",
     "text": [
      "Iter: 4050, running avg elbo: -0.6128, loss\n"
     ]
    },
    {
     "name": "stderr",
     "output_type": "stream",
     "text": [
      " 82%|████████▏ | 4100/5000 [31:54<07:38,  1.96it/s]"
     ]
    },
    {
     "name": "stdout",
     "output_type": "stream",
     "text": [
      "Iter: 4100, running avg elbo: -0.6123, loss\n"
     ]
    },
    {
     "name": "stderr",
     "output_type": "stream",
     "text": [
      " 83%|████████▎ | 4150/5000 [32:17<06:27,  2.19it/s]"
     ]
    },
    {
     "name": "stdout",
     "output_type": "stream",
     "text": [
      "Iter: 4150, running avg elbo: -0.6119, loss\n"
     ]
    },
    {
     "name": "stderr",
     "output_type": "stream",
     "text": [
      " 84%|████████▍ | 4200/5000 [32:41<06:23,  2.09it/s]"
     ]
    },
    {
     "name": "stdout",
     "output_type": "stream",
     "text": [
      "Iter: 4200, running avg elbo: -0.6115, loss\n"
     ]
    },
    {
     "name": "stderr",
     "output_type": "stream",
     "text": [
      " 85%|████████▌ | 4250/5000 [33:05<06:31,  1.91it/s]"
     ]
    },
    {
     "name": "stdout",
     "output_type": "stream",
     "text": [
      "Iter: 4250, running avg elbo: -0.6110, loss\n"
     ]
    },
    {
     "name": "stderr",
     "output_type": "stream",
     "text": [
      " 86%|████████▌ | 4300/5000 [33:31<05:58,  1.95it/s]"
     ]
    },
    {
     "name": "stdout",
     "output_type": "stream",
     "text": [
      "Iter: 4300, running avg elbo: -0.6106, loss\n"
     ]
    },
    {
     "name": "stderr",
     "output_type": "stream",
     "text": [
      " 87%|████████▋ | 4350/5000 [33:55<05:18,  2.04it/s]"
     ]
    },
    {
     "name": "stdout",
     "output_type": "stream",
     "text": [
      "Iter: 4350, running avg elbo: -0.6102, loss\n"
     ]
    },
    {
     "name": "stderr",
     "output_type": "stream",
     "text": [
      " 88%|████████▊ | 4400/5000 [34:22<06:19,  1.58it/s]"
     ]
    },
    {
     "name": "stdout",
     "output_type": "stream",
     "text": [
      "Iter: 4400, running avg elbo: -0.6098, loss\n"
     ]
    },
    {
     "name": "stderr",
     "output_type": "stream",
     "text": [
      " 89%|████████▉ | 4450/5000 [34:47<04:21,  2.10it/s]"
     ]
    },
    {
     "name": "stdout",
     "output_type": "stream",
     "text": [
      "Iter: 4450, running avg elbo: -0.6094, loss\n"
     ]
    },
    {
     "name": "stderr",
     "output_type": "stream",
     "text": [
      " 90%|█████████ | 4500/5000 [35:11<04:01,  2.07it/s]"
     ]
    },
    {
     "name": "stdout",
     "output_type": "stream",
     "text": [
      "Iter: 4500, running avg elbo: -0.6089, loss\n"
     ]
    },
    {
     "name": "stderr",
     "output_type": "stream",
     "text": [
      " 91%|█████████ | 4550/5000 [35:36<03:40,  2.04it/s]"
     ]
    },
    {
     "name": "stdout",
     "output_type": "stream",
     "text": [
      "Iter: 4550, running avg elbo: -0.6086, loss\n"
     ]
    },
    {
     "name": "stderr",
     "output_type": "stream",
     "text": [
      " 92%|█████████▏| 4600/5000 [36:03<03:25,  1.94it/s]"
     ]
    },
    {
     "name": "stdout",
     "output_type": "stream",
     "text": [
      "Iter: 4600, running avg elbo: -0.6082, loss\n"
     ]
    },
    {
     "name": "stderr",
     "output_type": "stream",
     "text": [
      " 93%|█████████▎| 4650/5000 [36:30<03:08,  1.85it/s]"
     ]
    },
    {
     "name": "stdout",
     "output_type": "stream",
     "text": [
      "Iter: 4650, running avg elbo: -0.6079, loss\n"
     ]
    },
    {
     "name": "stderr",
     "output_type": "stream",
     "text": [
      " 94%|█████████▍| 4700/5000 [36:56<02:28,  2.02it/s]"
     ]
    },
    {
     "name": "stdout",
     "output_type": "stream",
     "text": [
      "Iter: 4700, running avg elbo: -0.6075, loss\n"
     ]
    },
    {
     "name": "stderr",
     "output_type": "stream",
     "text": [
      " 95%|█████████▌| 4750/5000 [37:20<02:01,  2.06it/s]"
     ]
    },
    {
     "name": "stdout",
     "output_type": "stream",
     "text": [
      "Iter: 4750, running avg elbo: -0.6073, loss\n"
     ]
    },
    {
     "name": "stderr",
     "output_type": "stream",
     "text": [
      " 96%|█████████▌| 4800/5000 [37:45<01:37,  2.04it/s]"
     ]
    },
    {
     "name": "stdout",
     "output_type": "stream",
     "text": [
      "Iter: 4800, running avg elbo: -0.6070, loss\n"
     ]
    },
    {
     "name": "stderr",
     "output_type": "stream",
     "text": [
      " 97%|█████████▋| 4850/5000 [38:10<01:13,  2.04it/s]"
     ]
    },
    {
     "name": "stdout",
     "output_type": "stream",
     "text": [
      "Iter: 4850, running avg elbo: -0.6066, loss\n"
     ]
    },
    {
     "name": "stderr",
     "output_type": "stream",
     "text": [
      " 98%|█████████▊| 4900/5000 [38:34<00:50,  1.98it/s]"
     ]
    },
    {
     "name": "stdout",
     "output_type": "stream",
     "text": [
      "Iter: 4900, running avg elbo: -0.6062, loss\n"
     ]
    },
    {
     "name": "stderr",
     "output_type": "stream",
     "text": [
      " 99%|█████████▉| 4950/5000 [38:59<00:24,  2.03it/s]"
     ]
    },
    {
     "name": "stdout",
     "output_type": "stream",
     "text": [
      "Iter: 4950, running avg elbo: -0.6059, loss\n"
     ]
    },
    {
     "name": "stderr",
     "output_type": "stream",
     "text": [
      "100%|██████████| 5000/5000 [39:41<00:00,  2.10it/s]"
     ]
    },
    {
     "name": "stdout",
     "output_type": "stream",
     "text": [
      "Iter: 5000, running avg elbo: -0.6057, loss\n"
     ]
    },
    {
     "name": "stderr",
     "output_type": "stream",
     "text": [
      "\n"
     ]
    },
    {
     "data": {
      "image/png": "[encoded data removed]",
      "text/plain": [
       "<Figure size 640x480 with 1 Axes>"
      ]
     },
     "metadata": {},
     "output_type": "display_data"
    }
   ],
   "source": [
    "from matplotlib.animation import FuncAnimation, PillowWriter\n",
    "\n",
    "def animate_trajectories_with_tips(pred_x, x, batch, filepath=\"/mnt/data/trajectory_animation_with_tips.gif\", fps=20):\n",
    "    \"\"\"\n",
    "    Animate and save the trajectories of predicted and true positions with balls at the tips.\n",
    "\n",
    "    Parameters:\n",
    "    - pred_x: Predicted trajectories, expected shape (1, T, 6).\n",
    "    - x: True trajectories, expected shape (1, T, 6).\n",
    "    - batch: Index of the batch for which to plot the trajectories.\n",
    "    - filepath: Path to save the animation GIF.\n",
    "    - fps: Frames per second for the animation.\n",
    "    \"\"\"\n",
    "    T = pred_x.shape[1]  # Number of time steps\n",
    "\n",
    "    fig, ax = plt.subplots()\n",
    "\n",
    "    # Initialize lines for predicted (dashed) and true (solid) trajectories\n",
    "    lines = [plt.plot([], [], \"--\", color=f\"C{i}\")[0] for i in range(3)] + \\\n",
    "            [plt.plot([], [], \"-\", color=f\"C{i}\")[0] for i in range(3)]\n",
    "    # Initialize markers for the tips of each trajectory\n",
    "    markers = [plt.plot([], [], 'x', color=f\"C{i}\")[0] for i in range(3)]+[plt.plot([], [], 'o', color=f\"C{i}\")[0] for i in range(3)]\n",
    "    plt.xlim(-10,10)\n",
    "    plt.ylim(-10,10)\n",
    "    def init():\n",
    "        for line in lines:\n",
    "            line.set_data([], [])\n",
    "        for marker in markers:\n",
    "            marker.set_data([], [])\n",
    "        return lines + markers\n",
    "\n",
    "    def update(frame):\n",
    "        for i in range(3):\n",
    "            # Update predicted trajectories\n",
    "            lines[i].set_data(pred_x[0, :frame, i], pred_x[0, :frame, i+3])\n",
    "            # Update markers for predicted trajectories\n",
    "            markers[i].set_data(pred_x[0, frame-1, i], pred_x[0, frame-1, i+3])\n",
    "            \n",
    "            # Update true trajectories\n",
    "            lines[i+3].set_data(x[batch][ 0, :frame, i], x[batch][ 0, :frame, i+3])\n",
    "            # Update markers for true trajectories\n",
    "            markers[i+3].set_data(x[batch][ 0, frame-1, i], x[batch][0, frame-1, i+3])\n",
    "        return lines + markers\n",
    "\n",
    "    ani = FuncAnimation(fig, update, frames=np.arange(1, T+1), init_func=init, blit=True)\n",
    "\n",
    "    # Save the animation as a GIF\n",
    "    writer = PillowWriter(fps=fps)\n",
    "    ani.save(filepath, writer=writer)\n",
    "\n",
    "    plt.close(fig)  # Close the figure to avoid displaying it in a Jupyter notebook or similar environment\n",
    "\n",
    "class SymmetricNeuralODE(nn.Module):\n",
    "    def __init__(self, hidden_dim, hidden_depth):\n",
    "        super().__init__()\n",
    "        self.odefunc = mlp(\n",
    "            input_dim = 6,\n",
    "            hidden_dim = hidden_dim,\n",
    "            output_dim = 2,\n",
    "            hidden_depth = hidden_depth\n",
    "        )\n",
    "        self.input_weight = torch.Tensor([\n",
    "    [\n",
    "        [1, 0, 0, 0, 0, 0],\n",
    "        [0, 1, 0, 0, 0, 0],\n",
    "        [0, 0, 1, 0, 0, 0],\n",
    "        [0, 0, 0, 1, 0, 0],\n",
    "        [0, 0, 0, 0, 1, 0],\n",
    "        [0, 0, 0, 0, 0, 1]\n",
    "\n",
    "    ],\n",
    "    [\n",
    "        [1, 0, 0, 0, 0, 0],\n",
    "        [0, 1, 0, 0, 0, 0],\n",
    "        [0, 0, 0, 0, 1, 0],\n",
    "        [0, 0, 0, 0, 0, 1],\n",
    "        [0, 0, 1, 0, 0, 0],\n",
    "        [0, 0, 0, 1, 0, 0]\n",
    "    ],\n",
    "    [\n",
    "        [0, 0, 1, 0, 0, 0],\n",
    "        [0, 0, 0, 1, 0, 0],\n",
    "        [0, 0, 0, 0, 1, 0],\n",
    "        [0, 0, 0, 0, 0, 1],\n",
    "        [1, 0, 0, 0, 0, 0],\n",
    "        [0, 1, 0, 0, 0, 0]\n",
    "    ],\n",
    "    [\n",
    "        [0, 0, 1, 0, 0, 0],\n",
    "        [0, 0, 0, 1, 0, 0],\n",
    "        [1, 0, 0, 0, 0, 0],\n",
    "        [0, 1, 0, 0, 0, 0],\n",
    "        [0, 0, 0, 0, 1, 0],\n",
    "        [0, 0, 0, 0, 0, 1]\n",
    "    ],\n",
    "    [\n",
    "        [0, 0, 0, 0, 1, 0],\n",
    "        [0, 0, 0, 0, 0, 1],\n",
    "        [1, 0, 0, 0, 0, 0],\n",
    "        [0, 1, 0, 0, 0, 0],\n",
    "        [0, 0, 1, 0, 0, 0],\n",
    "        [0, 0, 0, 1, 0, 0]\n",
    "    ],\n",
    "    [\n",
    "        [0, 0, 0, 0, 1, 0],\n",
    "        [0, 0, 0, 0, 0, 1],\n",
    "        [0, 0, 1, 0, 0, 0],\n",
    "        [0, 0, 0, 1, 0, 0],\n",
    "        [1, 0, 0, 0, 0, 0],\n",
    "        [0, 1, 0, 0, 0, 0]\n",
    "    ]\n",
    "        ]).float()\n",
    "        self.output_weight = torch.Tensor([\n",
    "    [2, 2, -1, -1, -1, -1],\n",
    "    [-1, -1, 2, 2, -1, -1],\n",
    "    [-1, -1, -1, -1, 2, 2]\n",
    "        ]).float()\n",
    "\n",
    "        def init(m):\n",
    "            if isinstance(m, nn.Linear):\n",
    "                std = 1.0 / np.sqrt(m.weight.size(1))\n",
    "                m.weight.data.uniform_(-2.0 * std, 2.0 * std)\n",
    "                m.bias.data.zero_()\n",
    "\n",
    "        self.odefunc.apply(init)\n",
    "\n",
    "    def forward(self, t, state):\n",
    "        return torch.cat((state[:,6:], torch.matmul(self.output_weight, self.odefunc((self.input_weight @ state[:,:6].T).permute(2, 0, 1))).view(-1, 6)), dim = 1)\n",
    "        \n",
    "\n",
    "        \n",
    "        \n",
    "\n",
    "    def simulate(self, state, times):\n",
    "        solution = todeint(self, state, times, atol=1e-5, rtol=1e-5, method=\"dopri5\", options = {\"dtype\": torch.float32})\n",
    "        # B, S, T\n",
    "        return solution\n",
    "\n",
    "def mlp(input_dim, hidden_dim, output_dim, hidden_depth, output_mod=None, act=nn.ReLU):\n",
    "    if hidden_depth == 0:\n",
    "        mods = [nn.Linear(input_dim, output_dim)]\n",
    "    else:\n",
    "        mods = [nn.Linear(input_dim, hidden_dim), act()]\n",
    "        for i in range(hidden_depth - 1):\n",
    "            mods += [nn.Linear(hidden_dim, hidden_dim), act()]\n",
    "        mods.append(nn.Linear(hidden_dim, output_dim))\n",
    "    if output_mod is not None:\n",
    "        mods.append(output_mod)\n",
    "    trunk = nn.Sequential(*mods)\n",
    "    return trunk\n",
    "\n",
    "fname = \"grouped_data_longer\"\n",
    "if not os.path.isfile(f\"{fname}_x_coords.pt\"):\n",
    "\n",
    "    data,_ = sample_orbits_grouped(timesteps = 500,trials = 5000,t_span=[0,20])\n",
    "    x = torch.tensor( data['coords'], requires_grad=True, dtype=torch.float32)\n",
    "    # test_x = torch.tensor( data['test_coords'], requires_grad=True, dtype=torch.float32)\n",
    "    dxdt = torch.Tensor(data['dcoords'])\n",
    "    torch.save(x,f\"{fname}_x_coords.pt\")\n",
    "    torch.save(dxdt,f\"{fname}_dxdt_vals.pt\")\n",
    "else:\n",
    "    x = torch.load(f\"{fname}_x_coords.pt\")\n",
    "    dxdt = torch.load(f\"{fname}_dxdt_vals.pt\")\n",
    "\n",
    "fname = \"permuted_node\"\n",
    "permutation_model = SymmetricNeuralODE(32, 8)\n",
    "optimizer = torch.optim.Adam(permutation_model.parameters(), lr = 5e-3)\n",
    "losses = []\n",
    "epochs = 5000\n",
    "batch_size = 100\n",
    "device = torch.device(\"cpu\")\n",
    "\n",
    "for itr in tqdm(range(1, epochs + 1)):\n",
    "    optimizer.zero_grad()\n",
    "\n",
    "    # Get the batch\n",
    "    #batch = torch.arange(len(x))[:1]\n",
    "    batch = torch.randperm(len(x))[:batch_size].to(device)\n",
    "\n",
    "    obs = x[batch, 0, :]\n",
    "    times = torch.linspace(0, 20, 500)\n",
    "    permuter = torch.Tensor([0,3,1,4,2,5,6,9,7,10,8,11]).long()\n",
    "    trajectory = torch.permute(permutation_model.simulate(obs[:,permuter], times), (1, 0, 2))\n",
    "    permuter = torch.Tensor([0,2,4,1,3,5,6,8,10,7,9,11]).long()\n",
    "    trajectory = trajectory[:,:,permuter]\n",
    "\n",
    "    # We now animate is\n",
    "    if itr % 1000 ==0:\n",
    "        animate_trajectories_with_tips(trajectory.detach().cpu(),x.detach().cpu(),batch.detach().cpu(),fname+\".gif\")\n",
    "\n",
    "\n",
    "    # Calculate the exact loss\n",
    "    loss = (torch.abs(trajectory-x[batch]).mean())\n",
    "    loss.backward()\n",
    "    optimizer.step()\n",
    "    losses.append(loss.item())\n",
    "\n",
    "    if itr % 50 == 0:\n",
    "        print('Iter: {}, running avg elbo: {:.4f}, loss'.format(itr, -np.mean(losses)))\n",
    "plt.clf()\n",
    "plt.plot(losses)\n",
    "plt.savefig(fname + \".png\")\n",
    "\n"
   ]
  },
  {
   "cell_type": "code",
   "execution_count": 28,
   "metadata": {},
   "outputs": [
    {
     "name": "stdout",
     "output_type": "stream",
     "text": [
      "Generating dataset\n",
      "[..................................................] 0.00% ETA: almost done1\n"
     ]
    }
   ],
   "source": [
    "data,_ = sample_orbits_grouped(timesteps = 500,trials = 1,t_span=[0,20])\n",
    "batch = torch.arange(1)\n",
    "x = torch.tensor( data['coords'], requires_grad=True, dtype=torch.float32)\n",
    "obs = x[batch, 0, :]\n",
    "times = torch.linspace(0, 20, 500)\n",
    "permuter = torch.Tensor([0,3,1,4,2,5,6,9,7,10,8,11]).long()\n",
    "trajectory = torch.permute(permutation_model.simulate(obs[:,permuter], times), (1, 0, 2))\n",
    "permuter = torch.Tensor([0,2,4,1,3,5,6,8,10,7,9,11]).long()\n",
    "trajectory = trajectory[:,:,permuter]\n",
    "animate_trajectories_with_tips(trajectory.detach().cpu(),x.detach().cpu(),batch.detach().cpu(),\"permutation_test.gif\")"
   ]
  },
  {
   "cell_type": "markdown",
   "metadata": {},
   "source": [
    "### Loss and Test Trajectory\n",
    "\n",
    "The neural ODE seems to be more capable of learning the trajetories. It is interesting to note that although the model misses many of the finer parts of the trajectory, it roughly follows the general orbit. The loss steadily improved and could probably be further improved if the model were trained for longer.\n",
    "\n",
    "![](figures/permuted_node.png)\n",
    "![](figures/permutation_test.gif)"
   ]
  },
  {
   "cell_type": "markdown",
   "metadata": {},
   "source": [
    "This next model also incorporates translational and rotational symmetry. In the previous model, the three positions were taken as input (totaling a six dimensional input). To incorportate translational invariance (of acceleration), the first position is subtracted from the other two and then discarded, reducing the input dimension to 4. To incorporate rotational symmetry, the model receives as input the three dot products obtained from the remaining two positions ($p_1 \\cdot p_1$, $p_2 \\cdot p_2$, and $p_1 \\cdot p_2$). The input dimension is therefore only 3. The output dimensions is then two coefficients $\\alpha_1$ and $\\alpha_2$ that output the acceleration $\\alpha_1 p_1 + \\alpha_2 p_2$. Again, all these symmetries are done using carefully chosen tensor products. To test the symmetries, we tested the real acceleration in place of our model (still using all the tensor products to induce symmetries) and found that it predicted the orbits perfectly (accounting for numerical error). Unfornately, this model was incredibly unstable while training, quickly resulting in underflow errors. We changed the integration method to dopri8, reduced the tolerances, and made the symmetries optional but setting the symmetry tensors as parameters. Interestingly, the model started training much faster when the symmetries are not enforced. The first model below enforces symmetries, and the second does not."
   ]
  },
  {
   "cell_type": "code",
   "execution_count": 76,
   "metadata": {},
   "outputs": [
    {
     "name": "stderr",
     "output_type": "stream",
     "text": [
      "  0%|          | 0/1000 [00:00<?, ?it/s]"
     ]
    },
    {
     "name": "stderr",
     "output_type": "stream",
     "text": [
      "  2%|▏         | 20/1000 [00:12<09:21,  1.75it/s]"
     ]
    },
    {
     "name": "stdout",
     "output_type": "stream",
     "text": [
      "Iter: 20, running avg elbo: -0.7807\n"
     ]
    },
    {
     "name": "stderr",
     "output_type": "stream",
     "text": [
      "  4%|▍         | 40/1000 [00:26<11:36,  1.38it/s]"
     ]
    },
    {
     "name": "stdout",
     "output_type": "stream",
     "text": [
      "Iter: 40, running avg elbo: -0.7695\n"
     ]
    },
    {
     "name": "stderr",
     "output_type": "stream",
     "text": [
      "  6%|▌         | 60/1000 [00:41<11:48,  1.33it/s]"
     ]
    },
    {
     "name": "stdout",
     "output_type": "stream",
     "text": [
      "Iter: 60, running avg elbo: -0.7633\n"
     ]
    },
    {
     "name": "stderr",
     "output_type": "stream",
     "text": [
      "  8%|▊         | 80/1000 [00:56<10:47,  1.42it/s]"
     ]
    },
    {
     "name": "stdout",
     "output_type": "stream",
     "text": [
      "Iter: 80, running avg elbo: -0.7610\n"
     ]
    },
    {
     "name": "stderr",
     "output_type": "stream",
     "text": [
      " 10%|█         | 100/1000 [01:12<12:47,  1.17it/s]"
     ]
    },
    {
     "name": "stdout",
     "output_type": "stream",
     "text": [
      "Iter: 100, running avg elbo: -0.7590\n"
     ]
    },
    {
     "name": "stderr",
     "output_type": "stream",
     "text": [
      " 12%|█▏        | 120/1000 [01:28<15:25,  1.05s/it]"
     ]
    },
    {
     "name": "stdout",
     "output_type": "stream",
     "text": [
      "Iter: 120, running avg elbo: -0.7580\n"
     ]
    },
    {
     "name": "stderr",
     "output_type": "stream",
     "text": [
      " 14%|█▎        | 135/1000 [01:46<11:20,  1.27it/s]\n"
     ]
    },
    {
     "data": {
      "image/png": "[encoded data removed]",
      "text/plain": [
       "<Figure size 640x480 with 1 Axes>"
      ]
     },
     "metadata": {},
     "output_type": "display_data"
    }
   ],
   "source": [
    "ideal_input = torch.Tensor([\n",
    "    [\n",
    "        [1, 1, 0, 0, 0, -2],\n",
    "        [1, 0, 1, 0, -2, 0],\n",
    "        [1, 0, 0, 1, -1, -1]\n",
    "\n",
    "    ],\n",
    "    [\n",
    "        [1, 0, 1, 0, -2, 0],\n",
    "        [1, 1, 0, 0, 0, -2],\n",
    "        [1, 0, 0, 1, -1, -1]\n",
    "    ],\n",
    "    [\n",
    "        [0, 1, 1, -2, 0, 0],\n",
    "        [1, 1, 0, 0, 0, -2],\n",
    "        [0, 1, 0, -1, 1, -1]\n",
    "    ],\n",
    "    [\n",
    "        [1, 1, 0, 0, 0, -2],\n",
    "        [0, 1, 1, -2, 0, 0],\n",
    "        [0, 1, 0, -1, 1, -1]\n",
    "    ],\n",
    "    [\n",
    "        [1, 0, 1, 0, -2, 0],\n",
    "        [0, 1, 1, -2, 0, 0],\n",
    "        [0, 0, 1, -1, -1, 1]\n",
    "    ],\n",
    "    [\n",
    "        [0, 1, 1, -2, 0, 0],\n",
    "        [1, 0, 1, 0, -2, 0],\n",
    "        [0, 0, 1, -1, -1, 1]\n",
    "    ]\n",
    "        ]).float()\n",
    "\n",
    "ideal_output1 = torch.Tensor([\n",
    "            [1, 0],\n",
    "            [0, 1],\n",
    "            [0, 1],\n",
    "            [1, 0]\n",
    "        ]).float()\n",
    "\n",
    "ideal_output2 = torch.Tensor([\n",
    "    [\n",
    "        [-1,-1,0,0,0,0],\n",
    "        [1,0,0,0,0,0],\n",
    "        [0,1,0,0,0,0]\n",
    "    ],\n",
    "    [\n",
    "        [0,0,0,1,0,0],\n",
    "        [0,0,-1,-1,0,0],\n",
    "        [0,0,1,0,0,0]\n",
    "    ],\n",
    "    [\n",
    "        [0,0,0,0,1,0],\n",
    "        [0,0,0,0,0,1],\n",
    "        [0,0,0,0,-1,-1]\n",
    "    ],\n",
    "        ]).float()\n",
    "\n",
    "ideal_output3 = torch.Tensor([\n",
    "            [2, -1, -1],\n",
    "            [-1, 2, -1],\n",
    "            [-1, -1, 2]\n",
    "        ]).float()\n",
    "\n",
    "class mlp_helper(nn.Module):\n",
    "    def __init__(self, input_dim, hidden_dim, output_dim, hidden_depth, skip_regularity):\n",
    "        super().__init__()\n",
    "        self.input_dim = input_dim\n",
    "        self.hidden_dim = hidden_dim\n",
    "        self.output_dim = output_dim\n",
    "        self.hidden_depth = hidden_depth\n",
    "        self.skip_regularity = skip_regularity\n",
    "\n",
    "        self.layers = nn.ParameterList([nn.Linear(input_dim, hidden_dim)])\n",
    "        for i in range(hidden_depth - 1):\n",
    "            self.layers.append(nn.Linear(hidden_dim, hidden_dim))\n",
    "        self.layers.append(nn.Linear(hidden_dim, output_dim))\n",
    "\n",
    "        def initial(m):\n",
    "            if isinstance(m, nn.Linear):\n",
    "                std = 1.0 / np.sqrt(m.weight.size(1))\n",
    "                m.weight.data.uniform_(-2.0 * std, 2.0 * std)\n",
    "                m.bias.data.zero_()\n",
    "\n",
    "        for layer in self.layers:\n",
    "            initial(layer)\n",
    "    def forward(self, x):\n",
    "        act = nn.ReLU()\n",
    "        hidden = act(self.layers[0](x))\n",
    "        saved = hidden\n",
    "        for i in range(1, self.hidden_depth):\n",
    "            hidden = act(self.layers[i](hidden))\n",
    "            if i % self.skip_regularity == 0:\n",
    "                hidden = hidden + saved\n",
    "                saved = hidden\n",
    "        return self.layers[self.hidden_depth](hidden)\n",
    "\n",
    "class EquivariantNeuralODE(nn.Module):\n",
    "    def __init__(self, hidden_dim, hidden_depth, skip_regularity, freeze_symmetry):\n",
    "        super().__init__()\n",
    "        self.odefunc = mlp_helper(\n",
    "            input_dim = 3,\n",
    "            hidden_dim = hidden_dim,\n",
    "            output_dim = 2,\n",
    "            hidden_depth = hidden_depth,\n",
    "            skip_regularity = skip_regularity\n",
    "        )\n",
    "        # Input permutations\n",
    "        self.input_weight = nn.Parameter(torch.Tensor(ideal_input).float())\n",
    "        # Swapping symmetry\n",
    "        self.output_weight1 = nn.Parameter(torch.Tensor(ideal_output1).float())\n",
    "        # Cycling symmetry\n",
    "        self.output_weight2 = nn.Parameter(torch.Tensor(ideal_output2).float())\n",
    "        # Conservation of momentum\n",
    "        self.output_weight3 = nn.Parameter(torch.Tensor(ideal_output3).float())\n",
    "\n",
    "        if freeze_symmetry:\n",
    "            self.input_weight.requires_grad = False\n",
    "            self.output_weight1.requires_grad = False\n",
    "            self.output_weight2.requires_grad = False\n",
    "            self.output_weight3.requires_grad = False\n",
    "\n",
    "        def init(m):\n",
    "            if isinstance(m, nn.Linear):\n",
    "                std = 1.0 / np.sqrt(m.weight.size(1) * hidden_depth)\n",
    "                m.weight.data.uniform_(-2.0 * std, 2.0 * std)\n",
    "                m.bias.data.zero_()\n",
    "\n",
    "        self.odefunc.apply(init)\n",
    "\n",
    "    def func2(self, x):\n",
    "        return torch.stack((1/(6*x[:,:,0]**1.5), 1/(6*x[:,:,1]**1.5)), dim = -1)\n",
    "\n",
    "    def forward(self, t, state):\n",
    "       p1 = state[:,:2]\n",
    "       p2 = state[:,2:4]\n",
    "       p3 = state[:,4:6]\n",
    "\n",
    "       d11 = torch.sum(p1 * p1, dim = -1)\n",
    "       d22 = torch.sum(p2 * p2, dim = -1)\n",
    "       d33 = torch.sum(p3 * p3, dim = -1)\n",
    "       d12 = torch.sum(p1 * p2, dim = -1)\n",
    "       d23 = torch.sum(p2 * p3, dim = -1)\n",
    "       d31 = torch.sum(p3 * p1, dim = -1)\n",
    "\n",
    "       d = torch.stack((d11,d22,d33,d23,d31,d12), dim = 0)\n",
    "       output = self.odefunc((self.input_weight @ d).permute(2,0,1)).view(-1, 3, 4) @ self.output_weight1\n",
    "       output2 = self.output_weight3 @ (self.output_weight2 @ output.view(-1, 6).T).permute(2, 0, 1) @ torch.stack((p1, p2, p3), dim = 1)\n",
    "       \n",
    "\n",
    "\n",
    "\n",
    "       return torch.cat((state[:,6:], output2.view(-1, 6)), dim = 1)\n",
    "        \n",
    "\n",
    "        \n",
    "        \n",
    "\n",
    "    def simulate(self, state, times):\n",
    "        solution = todeint(self, state, times, atol=1e-5, rtol=1e-5, method=\"dopri8\", options = {\"dtype\": torch.float32})\n",
    "        #solution = todeint(self, state, times, atol=1, rtol=1, method=\"rk4\", options = {\"step_size\": 2e-2})\n",
    "        # B, S, T\n",
    "        return solution\n",
    "\n",
    "def mlp(input_dim, hidden_dim, output_dim, hidden_depth, output_mod=None, act=nn.ReLU):\n",
    "    if hidden_depth == 0:\n",
    "        mods = [nn.Linear(input_dim, output_dim)]\n",
    "    else:\n",
    "        mods = [nn.Linear(input_dim, hidden_dim), act()]\n",
    "        for i in range(hidden_depth - 1):\n",
    "            mods += [nn.Linear(hidden_dim, hidden_dim), act()]\n",
    "        mods.append(nn.Linear(hidden_dim, output_dim))\n",
    "    if output_mod is not None:\n",
    "        mods.append(output_mod)\n",
    "    trunk = nn.Sequential(*mods)\n",
    "    return trunk\n",
    "\n",
    "fname = \"grouped_data_longer\"\n",
    "if not os.path.isfile(f\"{fname}_x_coords.pt\"):\n",
    "\n",
    "    data,_ = sample_orbits_grouped(timesteps = 500,trials = 5000,t_span=[0,20])\n",
    "    x = torch.tensor( data['coords'], requires_grad=True, dtype=torch.float32)\n",
    "    #test_x = torch.tensor( data['test_coords'], requires_grad=True, dtype=torch.float32)\n",
    "    dxdt = torch.Tensor(data['dcoords'])\n",
    "    torch.save(x,f\"{fname}_x_coords.pt\")\n",
    "    torch.save(dxdt,f\"{fname}_dxdt_vals.pt\")\n",
    "else:\n",
    "    x = torch.load(f\"{fname}_x_coords.pt\")\n",
    "    dxdt = torch.load(f\"{fname}_dxdt_vals.pt\")\n",
    "\n",
    "fname = \"permuted_node\"\n",
    "equivariant_model = EquivariantNeuralODE(hidden_dim = 32, hidden_depth = 16, skip_regularity=4, freeze_symmetry = True)\n",
    "optimizer = torch.optim.Adam(equivariant_model.parameters(), lr = 2e-3)\n",
    "losses = []\n",
    "epochs = 1000\n",
    "batch_size = 100\n",
    "device = torch.device(\"cpu\")\n",
    "\n",
    "\n",
    "\n",
    "for itr in tqdm(range(1, epochs + 1)):\n",
    "    optimizer.zero_grad()\n",
    "\n",
    "    # Get the batch\n",
    "    batch = torch.randperm(len(x))[:batch_size]\n",
    "    #batch = torch.arange(batch_size)\n",
    "\n",
    "  \n",
    "    obs = x[batch, 0, :]\n",
    "    times = torch.linspace(0, 20, 500)\n",
    "    permuter = torch.Tensor([0,3,1,4,2,5,6,9,7,10,8,11]).long()\n",
    "    try:\n",
    "        trajectory = torch.permute(equivariant_model.simulate(obs[:,permuter], times), (1, 0, 2))\n",
    "        permuter = torch.Tensor([0,2,4,1,3,5,6,8,10,7,9,11]).long()\n",
    "        trajectory = trajectory[:,:,permuter]\n",
    "\n",
    "        # We now animate is\n",
    "        if itr %200==0:\n",
    "            test_data,_ = sample_orbits_grouped(timesteps = 500,trials = 1,t_span=[0,20])\n",
    "            test_batch = torch.arange(1)\n",
    "            test_x = torch.tensor( test_data['coords'], requires_grad=True, dtype=torch.float32)\n",
    "            test_obs = test_x[test_batch, 0, :]\n",
    "            test_times = torch.linspace(0, 20, 500)\n",
    "            permuter = torch.Tensor([0,3,1,4,2,5,6,9,7,10,8,11]).long()\n",
    "            test_trajectory = torch.permute(equivariant_model.simulate(test_obs[:,permuter], test_times), (1, 0, 2))\n",
    "            permuter = torch.Tensor([0,2,4,1,3,5,6,8,10,7,9,11]).long()\n",
    "            test_trajectory = test_trajectory[:,:,permuter]\n",
    "            animate_trajectories_with_tips(test_trajectory.detach().cpu(),test_x.detach().cpu(),test_batch.detach().cpu(),\"equivariant_test.gif\")\n",
    "\n",
    "\n",
    "        # Calculate the exact loss\n",
    "        loss = (torch.abs(trajectory-x[batch]).mean())\n",
    "        loss.backward()\n",
    "        optimizer.step()\n",
    "        losses.append(loss.item())\n",
    "        if itr % 20 == 0:\n",
    "            print('Iter: {}, running avg elbo: {:.4f}'.format(itr, -np.mean(losses)))\n",
    "\n",
    "    except AssertionError as e:\n",
    "        break\n",
    "        print(\"Integration error:\", e)\n",
    "        with torch.no_grad():\n",
    "            for param in equivariant_model.parameters():\n",
    "                param.add_(torch.randn(param.size()) * 0.1)\n",
    "\n",
    "plt.clf()\n",
    "plt.plot(losses)\n",
    "plt.savefig(\"equivariant_model.png\")"
   ]
  },
  {
   "cell_type": "markdown",
   "metadata": {},
   "source": [
    "### Loss and Test Trajectory\n",
    "\n",
    "The training of the completely symmetric neural ODE was incredibly unsteady and eventually diverged. The trajectories are rough.\n",
    "\n",
    "![](figures/equivariant_model.png)\n",
    "![](figures/equivariant_test.gif)"
   ]
  },
  {
   "cell_type": "code",
   "execution_count": 80,
   "metadata": {},
   "outputs": [
    {
     "name": "stderr",
     "output_type": "stream",
     "text": [
      "  0%|          | 0/1000 [00:00<?, ?it/s]"
     ]
    },
    {
     "name": "stderr",
     "output_type": "stream",
     "text": [
      "  2%|▏         | 20/1000 [00:15<11:56,  1.37it/s]"
     ]
    },
    {
     "name": "stdout",
     "output_type": "stream",
     "text": [
      "Iter: 20, running avg elbo: -0.7427\n"
     ]
    },
    {
     "name": "stderr",
     "output_type": "stream",
     "text": [
      "  4%|▍         | 40/1000 [00:31<12:29,  1.28it/s]"
     ]
    },
    {
     "name": "stdout",
     "output_type": "stream",
     "text": [
      "Iter: 40, running avg elbo: -0.7097\n"
     ]
    },
    {
     "name": "stderr",
     "output_type": "stream",
     "text": [
      "  6%|▌         | 60/1000 [00:47<12:46,  1.23it/s]"
     ]
    },
    {
     "name": "stdout",
     "output_type": "stream",
     "text": [
      "Iter: 60, running avg elbo: -0.6974\n"
     ]
    },
    {
     "name": "stderr",
     "output_type": "stream",
     "text": [
      "  8%|▊         | 80/1000 [01:06<15:59,  1.04s/it]"
     ]
    },
    {
     "name": "stdout",
     "output_type": "stream",
     "text": [
      "Iter: 80, running avg elbo: -0.6910\n"
     ]
    },
    {
     "name": "stderr",
     "output_type": "stream",
     "text": [
      " 10%|█         | 100/1000 [01:36<28:27,  1.90s/it]"
     ]
    },
    {
     "name": "stdout",
     "output_type": "stream",
     "text": [
      "Iter: 100, running avg elbo: -0.6843\n"
     ]
    },
    {
     "name": "stderr",
     "output_type": "stream",
     "text": [
      " 12%|█▏        | 120/1000 [02:26<39:15,  2.68s/it]"
     ]
    },
    {
     "name": "stdout",
     "output_type": "stream",
     "text": [
      "Iter: 120, running avg elbo: -0.6788\n"
     ]
    },
    {
     "name": "stderr",
     "output_type": "stream",
     "text": [
      " 14%|█▍        | 140/1000 [03:23<42:05,  2.94s/it]"
     ]
    },
    {
     "name": "stdout",
     "output_type": "stream",
     "text": [
      "Iter: 140, running avg elbo: -0.6732\n"
     ]
    },
    {
     "name": "stderr",
     "output_type": "stream",
     "text": [
      " 16%|█▌        | 160/1000 [04:23<41:39,  2.98s/it]"
     ]
    },
    {
     "name": "stdout",
     "output_type": "stream",
     "text": [
      "Iter: 160, running avg elbo: -0.6682\n"
     ]
    },
    {
     "name": "stderr",
     "output_type": "stream",
     "text": [
      " 18%|█▊        | 180/1000 [05:27<43:54,  3.21s/it]"
     ]
    },
    {
     "name": "stdout",
     "output_type": "stream",
     "text": [
      "Iter: 180, running avg elbo: -0.6640\n"
     ]
    },
    {
     "name": "stderr",
     "output_type": "stream",
     "text": [
      " 20%|█▉        | 199/1000 [06:33<48:46,  3.65s/it]"
     ]
    },
    {
     "name": "stdout",
     "output_type": "stream",
     "text": [
      "Generating dataset\n",
      "[..................................................] 0.00% ETA: almost done1\n"
     ]
    },
    {
     "name": "stderr",
     "output_type": "stream",
     "text": [
      " 20%|██        | 200/1000 [06:52<1:49:40,  8.23s/it]"
     ]
    },
    {
     "name": "stdout",
     "output_type": "stream",
     "text": [
      "Iter: 200, running avg elbo: -0.6607\n"
     ]
    },
    {
     "name": "stderr",
     "output_type": "stream",
     "text": [
      " 22%|██▏       | 220/1000 [08:06<48:04,  3.70s/it]  "
     ]
    },
    {
     "name": "stdout",
     "output_type": "stream",
     "text": [
      "Iter: 220, running avg elbo: -0.6573\n"
     ]
    },
    {
     "name": "stderr",
     "output_type": "stream",
     "text": [
      " 24%|██▍       | 240/1000 [09:22<51:38,  4.08s/it]"
     ]
    },
    {
     "name": "stdout",
     "output_type": "stream",
     "text": [
      "Iter: 240, running avg elbo: -0.6543\n"
     ]
    },
    {
     "name": "stderr",
     "output_type": "stream",
     "text": [
      " 26%|██▌       | 260/1000 [10:39<46:10,  3.74s/it]"
     ]
    },
    {
     "name": "stdout",
     "output_type": "stream",
     "text": [
      "Iter: 260, running avg elbo: -0.6514\n"
     ]
    },
    {
     "name": "stderr",
     "output_type": "stream",
     "text": [
      " 28%|██▊       | 280/1000 [11:59<48:31,  4.04s/it]"
     ]
    },
    {
     "name": "stdout",
     "output_type": "stream",
     "text": [
      "Iter: 280, running avg elbo: -0.6488\n"
     ]
    },
    {
     "name": "stderr",
     "output_type": "stream",
     "text": [
      " 30%|███       | 300/1000 [13:20<46:14,  3.96s/it]"
     ]
    },
    {
     "name": "stdout",
     "output_type": "stream",
     "text": [
      "Iter: 300, running avg elbo: -0.6465\n"
     ]
    },
    {
     "name": "stderr",
     "output_type": "stream",
     "text": [
      " 32%|███▏      | 320/1000 [14:40<48:08,  4.25s/it]"
     ]
    },
    {
     "name": "stdout",
     "output_type": "stream",
     "text": [
      "Iter: 320, running avg elbo: -0.6444\n"
     ]
    },
    {
     "name": "stderr",
     "output_type": "stream",
     "text": [
      " 34%|███▍      | 340/1000 [16:05<45:04,  4.10s/it]"
     ]
    },
    {
     "name": "stdout",
     "output_type": "stream",
     "text": [
      "Iter: 340, running avg elbo: -0.6428\n"
     ]
    },
    {
     "name": "stderr",
     "output_type": "stream",
     "text": [
      " 36%|███▌      | 360/1000 [17:27<44:27,  4.17s/it]"
     ]
    },
    {
     "name": "stdout",
     "output_type": "stream",
     "text": [
      "Iter: 360, running avg elbo: -0.6416\n"
     ]
    },
    {
     "name": "stderr",
     "output_type": "stream",
     "text": [
      " 38%|███▊      | 380/1000 [18:39<35:09,  3.40s/it]"
     ]
    },
    {
     "name": "stdout",
     "output_type": "stream",
     "text": [
      "Iter: 380, running avg elbo: -0.6401\n"
     ]
    },
    {
     "name": "stderr",
     "output_type": "stream",
     "text": [
      " 40%|███▉      | 399/1000 [19:46<38:33,  3.85s/it]"
     ]
    },
    {
     "name": "stdout",
     "output_type": "stream",
     "text": [
      "Generating dataset\n",
      "[..................................................] 0.00% ETA: almost done1\n"
     ]
    },
    {
     "name": "stderr",
     "output_type": "stream",
     "text": [
      " 40%|████      | 400/1000 [20:07<1:29:50,  8.98s/it]"
     ]
    },
    {
     "name": "stdout",
     "output_type": "stream",
     "text": [
      "Iter: 400, running avg elbo: -0.6386\n"
     ]
    },
    {
     "name": "stderr",
     "output_type": "stream",
     "text": [
      " 42%|████▏     | 420/1000 [21:25<35:47,  3.70s/it]  "
     ]
    },
    {
     "name": "stdout",
     "output_type": "stream",
     "text": [
      "Iter: 420, running avg elbo: -0.6374\n"
     ]
    },
    {
     "name": "stderr",
     "output_type": "stream",
     "text": [
      " 44%|████▍     | 440/1000 [22:45<37:26,  4.01s/it]"
     ]
    },
    {
     "name": "stdout",
     "output_type": "stream",
     "text": [
      "Iter: 440, running avg elbo: -0.6357\n"
     ]
    },
    {
     "name": "stderr",
     "output_type": "stream",
     "text": [
      " 46%|████▌     | 460/1000 [24:01<34:33,  3.84s/it]"
     ]
    },
    {
     "name": "stdout",
     "output_type": "stream",
     "text": [
      "Iter: 460, running avg elbo: -0.6341\n"
     ]
    },
    {
     "name": "stderr",
     "output_type": "stream",
     "text": [
      " 48%|████▊     | 480/1000 [25:20<35:10,  4.06s/it]"
     ]
    },
    {
     "name": "stdout",
     "output_type": "stream",
     "text": [
      "Iter: 480, running avg elbo: -0.6327\n"
     ]
    },
    {
     "name": "stderr",
     "output_type": "stream",
     "text": [
      " 50%|█████     | 500/1000 [26:40<32:08,  3.86s/it]"
     ]
    },
    {
     "name": "stdout",
     "output_type": "stream",
     "text": [
      "Iter: 500, running avg elbo: -0.6310\n"
     ]
    },
    {
     "name": "stderr",
     "output_type": "stream",
     "text": [
      " 52%|█████▏    | 520/1000 [28:00<31:25,  3.93s/it]"
     ]
    },
    {
     "name": "stdout",
     "output_type": "stream",
     "text": [
      "Iter: 520, running avg elbo: -0.6295\n"
     ]
    },
    {
     "name": "stderr",
     "output_type": "stream",
     "text": [
      " 53%|█████▎    | 531/1000 [28:50<25:28,  3.26s/it]\n"
     ]
    },
    {
     "data": {
      "image/png": "[encoded data removed]",
      "text/plain": [
       "<Figure size 640x480 with 1 Axes>"
      ]
     },
     "metadata": {},
     "output_type": "display_data"
    }
   ],
   "source": [
    "ideal_input = torch.Tensor([\n",
    "    [\n",
    "        [1, 1, 0, 0, 0, -2],\n",
    "        [1, 0, 1, 0, -2, 0],\n",
    "        [1, 0, 0, 1, -1, -1]\n",
    "\n",
    "    ],\n",
    "    [\n",
    "        [1, 0, 1, 0, -2, 0],\n",
    "        [1, 1, 0, 0, 0, -2],\n",
    "        [1, 0, 0, 1, -1, -1]\n",
    "    ],\n",
    "    [\n",
    "        [0, 1, 1, -2, 0, 0],\n",
    "        [1, 1, 0, 0, 0, -2],\n",
    "        [0, 1, 0, -1, 1, -1]\n",
    "    ],\n",
    "    [\n",
    "        [1, 1, 0, 0, 0, -2],\n",
    "        [0, 1, 1, -2, 0, 0],\n",
    "        [0, 1, 0, -1, 1, -1]\n",
    "    ],\n",
    "    [\n",
    "        [1, 0, 1, 0, -2, 0],\n",
    "        [0, 1, 1, -2, 0, 0],\n",
    "        [0, 0, 1, -1, -1, 1]\n",
    "    ],\n",
    "    [\n",
    "        [0, 1, 1, -2, 0, 0],\n",
    "        [1, 0, 1, 0, -2, 0],\n",
    "        [0, 0, 1, -1, -1, 1]\n",
    "    ]\n",
    "        ]).float()\n",
    "\n",
    "ideal_output1 = torch.Tensor([\n",
    "            [1, 0],\n",
    "            [0, 1],\n",
    "            [0, 1],\n",
    "            [1, 0]\n",
    "        ]).float()\n",
    "\n",
    "ideal_output2 = torch.Tensor([\n",
    "    [\n",
    "        [-1,-1,0,0,0,0],\n",
    "        [1,0,0,0,0,0],\n",
    "        [0,1,0,0,0,0]\n",
    "    ],\n",
    "    [\n",
    "        [0,0,0,1,0,0],\n",
    "        [0,0,-1,-1,0,0],\n",
    "        [0,0,1,0,0,0]\n",
    "    ],\n",
    "    [\n",
    "        [0,0,0,0,1,0],\n",
    "        [0,0,0,0,0,1],\n",
    "        [0,0,0,0,-1,-1]\n",
    "    ],\n",
    "        ]).float()\n",
    "\n",
    "ideal_output3 = torch.Tensor([\n",
    "            [2, -1, -1],\n",
    "            [-1, 2, -1],\n",
    "            [-1, -1, 2]\n",
    "        ]).float()\n",
    "\n",
    "class mlp_helper(nn.Module):\n",
    "    def __init__(self, input_dim, hidden_dim, output_dim, hidden_depth, skip_regularity):\n",
    "        super().__init__()\n",
    "        self.input_dim = input_dim\n",
    "        self.hidden_dim = hidden_dim\n",
    "        self.output_dim = output_dim\n",
    "        self.hidden_depth = hidden_depth\n",
    "        self.skip_regularity = skip_regularity\n",
    "\n",
    "        self.layers = nn.ParameterList([nn.Linear(input_dim, hidden_dim)])\n",
    "        for i in range(hidden_depth - 1):\n",
    "            self.layers.append(nn.Linear(hidden_dim, hidden_dim))\n",
    "        self.layers.append(nn.Linear(hidden_dim, output_dim))\n",
    "\n",
    "        def initial(m):\n",
    "            if isinstance(m, nn.Linear):\n",
    "                std = 1.0 / np.sqrt(m.weight.size(1))\n",
    "                m.weight.data.uniform_(-2.0 * std, 2.0 * std)\n",
    "                m.bias.data.zero_()\n",
    "\n",
    "        for layer in self.layers:\n",
    "            initial(layer)\n",
    "    def forward(self, x):\n",
    "        act = nn.ReLU()\n",
    "        hidden = act(self.layers[0](x))\n",
    "        saved = hidden\n",
    "        for i in range(1, self.hidden_depth):\n",
    "            hidden = act(self.layers[i](hidden))\n",
    "            if i % self.skip_regularity == 0:\n",
    "                hidden = hidden + saved\n",
    "                saved = hidden\n",
    "        return self.layers[self.hidden_depth](hidden)\n",
    "\n",
    "class EquivariantNeuralODE(nn.Module):\n",
    "    def __init__(self, hidden_dim, hidden_depth, skip_regularity, freeze_symmetry):\n",
    "        super().__init__()\n",
    "        self.odefunc = mlp_helper(\n",
    "            input_dim = 3,\n",
    "            hidden_dim = hidden_dim,\n",
    "            output_dim = 2,\n",
    "            hidden_depth = hidden_depth,\n",
    "            skip_regularity = skip_regularity\n",
    "        )\n",
    "        # Input permutations\n",
    "        self.input_weight = nn.Parameter(torch.Tensor(ideal_input).float())\n",
    "        # Swapping symmetry\n",
    "        self.output_weight1 = nn.Parameter(torch.Tensor(ideal_output1).float())\n",
    "        # Cycling symmetry\n",
    "        self.output_weight2 = nn.Parameter(torch.Tensor(ideal_output2).float())\n",
    "        # Conservation of momentum\n",
    "        self.output_weight3 = nn.Parameter(torch.Tensor(ideal_output3).float())\n",
    "\n",
    "        if freeze_symmetry:\n",
    "            self.input_weight.requires_grad = False\n",
    "            self.output_weight1.requires_grad = False\n",
    "            self.output_weight2.requires_grad = False\n",
    "            self.output_weight3.requires_grad = False\n",
    "\n",
    "        def init(m):\n",
    "            if isinstance(m, nn.Linear):\n",
    "                std = 1.0 / np.sqrt(m.weight.size(1) * hidden_depth)\n",
    "                m.weight.data.uniform_(-2.0 * std, 2.0 * std)\n",
    "                m.bias.data.zero_()\n",
    "\n",
    "        self.odefunc.apply(init)\n",
    "\n",
    "    def func2(self, x):\n",
    "        return torch.stack((1/(6*x[:,:,0]**1.5), 1/(6*x[:,:,1]**1.5)), dim = -1)\n",
    "\n",
    "    def forward(self, t, state):\n",
    "       p1 = state[:,:2]\n",
    "       p2 = state[:,2:4]\n",
    "       p3 = state[:,4:6]\n",
    "\n",
    "       d11 = torch.sum(p1 * p1, dim = -1)\n",
    "       d22 = torch.sum(p2 * p2, dim = -1)\n",
    "       d33 = torch.sum(p3 * p3, dim = -1)\n",
    "       d12 = torch.sum(p1 * p2, dim = -1)\n",
    "       d23 = torch.sum(p2 * p3, dim = -1)\n",
    "       d31 = torch.sum(p3 * p1, dim = -1)\n",
    "\n",
    "       d = torch.stack((d11,d22,d33,d23,d31,d12), dim = 0)\n",
    "       output = self.odefunc((self.input_weight @ d).permute(2,0,1)).view(-1, 3, 4) @ self.output_weight1\n",
    "       output2 = self.output_weight3 @ (self.output_weight2 @ output.view(-1, 6).T).permute(2, 0, 1) @ torch.stack((p1, p2, p3), dim = 1)\n",
    "       \n",
    "\n",
    "\n",
    "\n",
    "       return torch.cat((state[:,6:], output2.view(-1, 6)), dim = 1)\n",
    "        \n",
    "\n",
    "        \n",
    "        \n",
    "\n",
    "    def simulate(self, state, times):\n",
    "        solution = todeint(self, state, times, atol=1e-5, rtol=1e-5, method=\"dopri8\", options = {\"dtype\": torch.float32})\n",
    "        #solution = todeint(self, state, times, atol=1, rtol=1, method=\"rk4\", options = {\"step_size\": 2e-2})\n",
    "        # B, S, T\n",
    "        return solution\n",
    "\n",
    "def mlp(input_dim, hidden_dim, output_dim, hidden_depth, output_mod=None, act=nn.ReLU):\n",
    "    if hidden_depth == 0:\n",
    "        mods = [nn.Linear(input_dim, output_dim)]\n",
    "    else:\n",
    "        mods = [nn.Linear(input_dim, hidden_dim), act()]\n",
    "        for i in range(hidden_depth - 1):\n",
    "            mods += [nn.Linear(hidden_dim, hidden_dim), act()]\n",
    "        mods.append(nn.Linear(hidden_dim, output_dim))\n",
    "    if output_mod is not None:\n",
    "        mods.append(output_mod)\n",
    "    trunk = nn.Sequential(*mods)\n",
    "    return trunk\n",
    "\n",
    "fname = \"grouped_data_longer\"\n",
    "if not os.path.isfile(f\"{fname}_x_coords.pt\"):\n",
    "\n",
    "    data,_ = sample_orbits_grouped(timesteps = 500,trials = 5000,t_span=[0,20])\n",
    "    x = torch.tensor( data['coords'], requires_grad=True, dtype=torch.float32)\n",
    "    #test_x = torch.tensor( data['test_coords'], requires_grad=True, dtype=torch.float32)\n",
    "    dxdt = torch.Tensor(data['dcoords'])\n",
    "    torch.save(x,f\"{fname}_x_coords.pt\")\n",
    "    torch.save(dxdt,f\"{fname}_dxdt_vals.pt\")\n",
    "else:\n",
    "    x = torch.load(f\"{fname}_x_coords.pt\")\n",
    "    dxdt = torch.load(f\"{fname}_dxdt_vals.pt\")\n",
    "\n",
    "fname = \"permuted_node\"\n",
    "equivariant_model = EquivariantNeuralODE(hidden_dim = 32, hidden_depth = 16, skip_regularity=4, freeze_symmetry = False)\n",
    "optimizer = torch.optim.Adam(equivariant_model.parameters(), lr = 2e-3)\n",
    "losses = []\n",
    "epochs = 1000\n",
    "batch_size = 100\n",
    "device = torch.device(\"cpu\")\n",
    "\n",
    "\n",
    "\n",
    "for itr in tqdm(range(1, epochs + 1)):\n",
    "    optimizer.zero_grad()\n",
    "\n",
    "    # Get the batch\n",
    "    batch = torch.randperm(len(x))[:batch_size]\n",
    "    #batch = torch.arange(batch_size)\n",
    "\n",
    "  \n",
    "    obs = x[batch, 0, :]\n",
    "    times = torch.linspace(0, 20, 500)\n",
    "    permuter = torch.Tensor([0,3,1,4,2,5,6,9,7,10,8,11]).long()\n",
    "    try:\n",
    "        trajectory = torch.permute(equivariant_model.simulate(obs[:,permuter], times), (1, 0, 2))\n",
    "        permuter = torch.Tensor([0,2,4,1,3,5,6,8,10,7,9,11]).long()\n",
    "        trajectory = trajectory[:,:,permuter]\n",
    "\n",
    "        # We now animate is\n",
    "        if itr %200==0:\n",
    "            test_data,_ = sample_orbits_grouped(timesteps = 500,trials = 1,t_span=[0,20])\n",
    "            test_batch = torch.arange(1)\n",
    "            test_x = torch.tensor( test_data['coords'], requires_grad=True, dtype=torch.float32)\n",
    "            test_obs = test_x[test_batch, 0, :]\n",
    "            test_times = torch.linspace(0, 20, 500)\n",
    "            permuter = torch.Tensor([0,3,1,4,2,5,6,9,7,10,8,11]).long()\n",
    "            test_trajectory = torch.permute(equivariant_model.simulate(test_obs[:,permuter], test_times), (1, 0, 2))\n",
    "            permuter = torch.Tensor([0,2,4,1,3,5,6,8,10,7,9,11]).long()\n",
    "            test_trajectory = test_trajectory[:,:,permuter]\n",
    "            animate_trajectories_with_tips(test_trajectory.detach().cpu(),test_x.detach().cpu(),test_batch.detach().cpu(),\"semi_equivariant_test.gif\")\n",
    "\n",
    "\n",
    "        # Calculate the exact loss\n",
    "        loss = (torch.abs(trajectory-x[batch]).mean())\n",
    "        loss.backward()\n",
    "        optimizer.step()\n",
    "        losses.append(loss.item())\n",
    "        if itr % 20 == 0:\n",
    "            print('Iter: {}, running avg elbo: {:.4f}'.format(itr, -np.mean(losses)))\n",
    "\n",
    "    except AssertionError as e:\n",
    "        break\n",
    "        print(\"Integration error:\", e)\n",
    "        with torch.no_grad():\n",
    "            for param in equivariant_model.parameters():\n",
    "                param.add_(torch.randn(param.size()) * 0.1)\n",
    "\n",
    "plt.clf()\n",
    "plt.plot(losses)\n",
    "plt.savefig(\"semi_equivariant_model.png\")"
   ]
  },
  {
   "cell_type": "code",
   "execution_count": 81,
   "metadata": {},
   "outputs": [
    {
     "name": "stdout",
     "output_type": "stream",
     "text": [
      "Generating dataset\n",
      "[..................................................] 0.00% ETA: almost done1\n"
     ]
    }
   ],
   "source": [
    "test_data,_ = sample_orbits_grouped(timesteps = 500,trials = 1,t_span=[0,20])\n",
    "test_batch = torch.arange(1)\n",
    "test_x = torch.tensor( test_data['coords'], requires_grad=True, dtype=torch.float32)\n",
    "test_obs = test_x[test_batch, 0, :]\n",
    "test_times = torch.linspace(0, 20, 500)\n",
    "permuter = torch.Tensor([0,3,1,4,2,5,6,9,7,10,8,11]).long()\n",
    "test_trajectory = torch.permute(equivariant_model.simulate(test_obs[:,permuter], test_times), (1, 0, 2))\n",
    "permuter = torch.Tensor([0,2,4,1,3,5,6,8,10,7,9,11]).long()\n",
    "test_trajectory = test_trajectory[:,:,permuter]\n",
    "animate_trajectories_with_tips(test_trajectory.detach().cpu(),test_x.detach().cpu(),test_batch.detach().cpu(),\"semi_equivariant_test.gif\")"
   ]
  },
  {
   "cell_type": "markdown",
   "metadata": {},
   "source": [
    "### Loss and Test Trajectory\n",
    "\n",
    "The neural ODE with non-enforced symmetries trained much better but still slowed down and had difficulty when during the integration step. Eventually, the integration step diverged. With more precice integration and a longer training time, a better accuracy might be attained.\n",
    "\n",
    "![](figures/semi_equivariant_model.png)\n",
    "![](figures/semi_equivariant_test.gif)"
   ]
  },
  {
   "cell_type": "markdown",
   "metadata": {},
   "source": [
    "## Discussion\n",
    "\n",
    "Generally, it seems that neural ODEs are more capable of following the three-body trajectories. Furthermore, adding symmetries to the model generally helps. However, when too symmetries are in place, the training process beings to break down. With all symmetries in place, the model frequently encountered underflow error.\n",
    "\n",
    "\n",
    "Surprisingly, when the symmetries are not enforced but are allowed to be broken, the model attains a much lower training loss, even when it has only seen a small fraction of the training data. It seems that although the space of models preserving symmetry is smaller, it is also more rigid and less convex, making it difficult to navigate. The quickest path to the optimal function appears to go through the space of nonsymmetric models."
   ]
  },
  {
   "cell_type": "markdown",
   "metadata": {},
   "source": [
    "# Latent Neural ODE \n",
    "The Latent Neural ODE is similar in spirit to the normal Neural ODE except we create the space in which to run the ODE solver. To do this we train an autoencoder that maps between the observation space $(p,q)$ and some latent space of arbitrary dimension. During train time we first map the initial observation $x$ to the latent space via the encoder $z=\\text{encoder}(x)$. We then run the ODE solver in this latent space to produce a trajectory of examples $z_1,...z_n$. We then convert each of these back to normal coordinates using the decoder $x_1=\\text{decoder}(z_1),...,x_n=\\text{decoder}(z_n)$\n",
    "\n",
    "The original motivation in [2] for this method was to deal with noisy data. However, in our experiments we found that training the autoencoder to be probabilistic (noise resistant) instead of exact (not noise resistant) degraded performance. This could be because our data is not super noisy to begin with. However, introducing the latent dimension did improve performance because it seemed like it gave the neural network more expressibility in the high dimensional space.\n",
    "\n",
    "Again we would not recommend running these locally, unless you have a high end GPU."
   ]
  },
  {
   "cell_type": "markdown",
   "metadata": {},
   "source": [
    "### Non-equivariant version\n",
    "Below we implement a Neural ODE that does not contain any symmetries."
   ]
  },
  {
   "cell_type": "code",
   "execution_count": null,
   "metadata": {},
   "outputs": [],
   "source": [
    "from matplotlib.animation import FuncAnimation, PillowWriter\n",
    "from data import sample_orbits_grouped\n",
    "from torchdiffeq import odeint as todeint\n",
    "import torch.nn.functional as F\n",
    "\n",
    "class LatentODEfunc(nn.Module):\n",
    "\n",
    "    def __init__(self, latent_dim=16, nhidden=32):\n",
    "        super(LatentODEfunc, self).__init__()\n",
    "        self.elu = nn.ELU()\n",
    "        self.fc1 = nn.Linear(latent_dim, nhidden)\n",
    "        self.fc2 = nn.Linear(nhidden, nhidden)\n",
    "        self.fc3 = nn.Linear(nhidden, latent_dim)\n",
    "        self.nfe = 0\n",
    "\n",
    "    def forward(self, t, x):\n",
    "        self.nfe += 1\n",
    "        out = self.fc1(x)\n",
    "        out = self.elu(out)\n",
    "        out = self.fc2(out)\n",
    "        out = self.elu(out)\n",
    "        out = self.fc3(out)\n",
    "        return out\n",
    "\n",
    "class Encoder(nn.Module):\n",
    "\n",
    "    def __init__(self, latent_dim=16, obs_dim=12, nhidden=32, nbatch=1):\n",
    "        super(Encoder, self).__init__()\n",
    "        self.nhidden = nhidden\n",
    "        self.nbatch = nbatch\n",
    "        self.i2h = nn.Linear(obs_dim + nhidden, nhidden)\n",
    "        self.h2o = nn.Linear(nhidden, latent_dim * 2)\n",
    "\n",
    "    def forward(self, x, h):\n",
    "        combined = torch.cat((x, h), dim=1)\n",
    "        h = torch.tanh(self.i2h(combined))\n",
    "        out = self.h2o(h)\n",
    "        return out, h\n",
    "\n",
    "    def initHidden(self):\n",
    "        return torch.zeros(self.nbatch, self.nhidden)\n",
    "\n",
    "class Decoder(nn.Module):\n",
    "\n",
    "    def __init__(self, latent_dim=16, obs_dim=12, nhidden=32):\n",
    "        super(Decoder, self).__init__()\n",
    "        self.relu = nn.ReLU()\n",
    "        self.fc1 = nn.Linear(latent_dim, nhidden)\n",
    "        self.fc2 = nn.Linear(nhidden, obs_dim)\n",
    "\n",
    "    def forward(self, z):\n",
    "        out = self.fc1(z)\n",
    "        out = self.relu(out)\n",
    "        out = self.fc2(out)\n",
    "        return out\n",
    "\n",
    "def log_normal_pdf(x, mean, logvar):\n",
    "    const = torch.from_numpy(np.array([2. * np.pi])).float().to(x.device)\n",
    "    const = torch.log(const)\n",
    "    return -.5 * (const + logvar + (x - mean) ** 2. / torch.exp(logvar))\n",
    "\n",
    "def animate_trajectories_with_tips(pred_x, x, batch, filepath=\"/mnt/data/trajectory_animation_with_tips.gif\", fps=20):\n",
    "    \"\"\"\n",
    "    Animate and save the trajectories of predicted and true positions with balls at the tips.\n",
    "\n",
    "    Parameters:\n",
    "    - pred_x: Predicted trajectories, expected shape (1, T, 6).\n",
    "    - x: True trajectories, expected shape (1, T, 6).\n",
    "    - batch: Index of the batch for which to plot the trajectories.\n",
    "    - filepath: Path to save the animation GIF.\n",
    "    - fps: Frames per second for the animation.\n",
    "    \"\"\"\n",
    "    T = pred_x.shape[1]  # Number of time steps\n",
    "\n",
    "    fig, ax = plt.subplots()\n",
    "\n",
    "    # Initialize lines for predicted (dashed) and true (solid) trajectories\n",
    "    lines = [plt.plot([], [], \"--\", color=f\"C{i}\")[0] for i in range(3)] + \\\n",
    "            [plt.plot([], [], \"-\", color=f\"C{i}\")[0] for i in range(3)]\n",
    "    # Initialize markers for the tips of each trajectory\n",
    "    markers = [plt.plot([], [], 'x', color=f\"C{i}\")[0] for i in range(3)]+[plt.plot([], [], 'o', color=f\"C{i}\")[0] for i in range(3)]\n",
    "    plt.xlim(-10,10)\n",
    "    plt.ylim(-10,10)\n",
    "    def init():\n",
    "        for line in lines:\n",
    "            line.set_data([], [])\n",
    "        for marker in markers:\n",
    "            marker.set_data([], [])\n",
    "        return lines + markers\n",
    "\n",
    "    def update(frame):\n",
    "        for i in range(3):\n",
    "            # Update predicted trajectories\n",
    "            lines[i].set_data(pred_x[0, :frame, i], pred_x[0, :frame, i+3])\n",
    "            # Update markers for predicted trajectories\n",
    "            markers[i].set_data(pred_x[0, frame-1, i], pred_x[0, frame-1, i+3])\n",
    "            \n",
    "            # Update true trajectories\n",
    "            lines[i+3].set_data(x[batch][ 0, :frame, i], x[batch][ 0, :frame, i+3])\n",
    "            # Update markers for true trajectories\n",
    "            markers[i+3].set_data(x[batch][ 0, frame-1, i], x[batch][0, frame-1, i+3])\n",
    "        return lines + markers\n",
    "\n",
    "    ani = FuncAnimation(fig, update, frames=np.arange(1, T+1), init_func=init, blit=True)\n",
    "\n",
    "    # Save the animation as a GIF\n",
    "    writer = PillowWriter(fps=fps)\n",
    "    ani.save(filepath, writer=writer)\n",
    "\n",
    "    plt.close(fig)  # Close the figure to avoid displaying it in a Jupyter notebook or similar environment\n",
    "\n",
    "def normal_kl(mu1, lv1, mu2, lv2):\n",
    "    v1 = torch.exp(lv1)\n",
    "    v2 = torch.exp(lv2)\n",
    "    lstd1 = lv1 / 2.\n",
    "    lstd2 = lv2 / 2.\n",
    "\n",
    "    kl = lstd2 - lstd1 + ((v1 + (mu1 - mu2) ** 2.) / (2. * v2)) - .5\n",
    "    return kl\n",
    "\n",
    "fname = \"grouped_data\"\n",
    "if not os.path.isfile(f\"{fname}_x_coords.pt\"):\n",
    "\n",
    "    data,_ = sample_orbits_grouped(time_steps = 80,trials = 5000,t_span=[0,20])\n",
    "    x = torch.tensor( data['coords'], requires_grad=True, dtype=torch.float32)\n",
    "    # test_x = torch.tensor( data['test_coords'], requires_grad=True, dtype=torch.float32)\n",
    "    dxdt = torch.Tensor(data['dcoords'])\n",
    "    torch.save(x,f\"{fname}_x_coords.pt\")\n",
    "    torch.save(dxdt,f\"{fname}_dxdt_vals.pt\")\n",
    "else:\n",
    "    x = torch.load(f\"{fname}_x_coords.pt\")\n",
    "    dxdt = torch.load(f\"{fname}_dxdt_vals.pt\")\n",
    "    \n",
    "latent_dim = 16\n",
    "nhidden = 32\n",
    "obs_dim = 12\n",
    "rnn_nhidden = 32\n",
    "noise_std = .001\n",
    "device = \"cuda\"\n",
    "batch_size = 256\n",
    "\n",
    "func = LatentODEfunc(latent_dim,nhidden).to(device)\n",
    "rec = Encoder(latent_dim, obs_dim, rnn_nhidden, batch_size).to(device)\n",
    "dec = Decoder(latent_dim, obs_dim, nhidden).to(device)\n",
    "params = (list(func.parameters()) + list(dec.parameters()) + list(rec.parameters()))\n",
    "optimizer = torch.optim.Adam(params, lr=1e-2)\n",
    "epochs = 5000\n",
    "sample_ts = torch.linspace(0, 20, 80)\n",
    "losses = []\n",
    "x=x.to(device)\n",
    "fname = \"no_symmetry_ODE\"\n",
    "def l4_loss(prediction, target):\n",
    "    error = torch.abs(prediction - target) ** 4\n",
    "    loss = torch.mean(error)\n",
    "    return loss\n",
    "for itr in tqdm(range(1, epochs + 1)):\n",
    "    optimizer.zero_grad()\n",
    "\n",
    "    # Get the batch\n",
    "    batch = torch.randperm(len(x))[:batch_size].to(device)\n",
    "\n",
    "    # This h is not actually necessary unless you are using probabilistic methods\n",
    "    h = rec.initHidden().to(device)\n",
    "    obs = x[batch, 0, :]\n",
    "    out, h = rec.forward(obs, h)\n",
    "\n",
    "    # This is mainly for the probabilistic approach, but qz0_mean is our latent space state\n",
    "    # We ignore the following two lines\n",
    "    qz0_mean, qz0_logvar = out[:, :latent_dim], out[:, latent_dim:]\n",
    "    # epsilon = torch.randn(qz0_mean.size()).to(device)# IGNOREME\n",
    "    # z0 = epsilon * torch.exp(.5 * qz0_logvar) + qz0_mean# IGNOREME\n",
    "\n",
    "    # forward in time and solve ode for reconstructions\n",
    "    pred_z = todeint(func, qz0_mean, sample_ts).permute(1, 0, 2)\n",
    "    pred_x = dec(pred_z)\n",
    "\n",
    "    # We now animate is\n",
    "    if itr %500==0:\n",
    "        animate_trajectories_with_tips(pred_x.detach().cpu(),x.detach().cpu(),batch.detach().cpu(),fname+\".gif\")\n",
    "\n",
    "    # this first part is the loss for the probabilistic version, we do not use it here\n",
    "    # noise_std_ = torch.zeros(pred_x.size()).to(device) + noise_std\n",
    "    # noise_logvar = 2. * torch.log(noise_std_).to(device)\n",
    "    # logpx = log_normal_pdf(\n",
    "    #     x[batch], pred_x, noise_logvar).sum(-1).sum(-1)\n",
    "    # pz0_mean = pz0_logvar = torch.zeros(z0.size()).to(device)\n",
    "    # analytic_kl = normal_kl(qz0_mean, qz0_logvar,\n",
    "    #                         pz0_mean, pz0_logvar).sum(-1)\n",
    "    # loss = torch.mean(-logpx + analytic_kl, dim=0)\n",
    "\n",
    "    # Calculate the exact loss\n",
    "    loss = F.mse_loss(pred_x,x[batch])\n",
    "    loss.backward()\n",
    "    optimizer.step()\n",
    "    losses.append(loss.item())\n",
    "\n",
    "    print('Iter: {}, running avg elbo: {:.4f}'.format(itr, -np.mean(losses)))\n",
    "plt.clf()\n",
    "plt.plot(losses)\n",
    "plt.savefig(fname + \".png\")"
   ]
  },
  {
   "cell_type": "markdown",
   "metadata": {},
   "source": [
    "### Loss and Training results\n",
    "Below we visualize the loss over time. The Latent Neural ODE had a much more stable loss than that of the Hamiltonian Neural Network and generally decreased over time.\n",
    "\n",
    "![](figures/no_symmetry_ODE_loss.png)"
   ]
  },
  {
   "cell_type": "markdown",
   "metadata": {},
   "source": [
    "### Discussion\n",
    "In general this Neural ODE did a lot better than any of the Hamiltonian Neural Networks. To see an example trajectory look at examples/no_symmetry_ODE.gif. The Neural ODE was usually able to at least stay in the general location as the actual trajectories. It had a lot more trouble learning the finer movements such as loops or spirals, but was usually very accurate during the first few seconds of the trajectory.\n",
    "\n",
    "Note that in these visualizations. The solid circles represent the actual trajectories and the crosses represent the predictions.\n",
    "\n",
    "![](examples/no_symmetry_ODE.gif)"
   ]
  },
  {
   "cell_type": "markdown",
   "metadata": {},
   "source": [
    "## Equivariant version\n",
    "To make things equivariant in the Latent Neural ODE case is more tricky. It is done by having the model predict coefficients for linear combinations of the original input features (in our case velocity and position). If we make the coefficients invariant under these symmetries then when making linear combinations, the result will be equivariant. \n",
    "\n",
    "To make the coefficients translationally invariant, we shift the positions by that of the first planet. We also only input the inner products to make them rotationally invariant. To maintain permuation equivariance we have the model predict features for one planet at a time and average over permuting the other two planets, let a be the resulting coefficients:\n",
    "$$\n",
    "a = NN(p_1,p_2,p_3,v_1,v_2,v_3)+NN(p_1,p_3,p_2,v_1,v_3,v_2)\n",
    "$$\n",
    "\n",
    "\n",
    "Our new velocity and position will be computed as thus:\n",
    "$$\n",
    "p_{\\text{new}}=a_1p_1+a_2p_2+a_3p_3+a_4v_1+a_5v_2+a_6v_3\\\\\n",
    "v_{\\text{new}}=a_7p_1+a_8p_2+a_9p_3+a_{10}v_1+a_{11}v_2+a_{12}v_3\n",
    "$$\n",
    "Where each of the $a_i$ are produced by the decoder of the model at a time step for a particular planet.\n",
    "\n",
    "To make the new position equivariant under translations of the planets we ensure that $a_1+a_2+a_3=1$ with a softmax. The velocities should be invariant under planet translation we make $a_7+a_8+a_9=0$\n",
    "\n",
    "Additionally, we ensured that the net velocity between all three planets remained constant because that is what is required by conservation of momentum. This is done by $v_i=v_i-(\\text{average predicted velocity of planets})+c$ where c is the constant velocity."
   ]
  },
  {
   "cell_type": "code",
   "execution_count": null,
   "metadata": {},
   "outputs": [],
   "source": [
    "class LatentODEfunc(nn.Module):\n",
    "\n",
    "    def __init__(self, latent_dim=16, nhidden=32):\n",
    "        super(LatentODEfunc, self).__init__()\n",
    "        self.elu = nn.ReLU()\n",
    "        self.fc1 = nn.Linear(latent_dim, nhidden)\n",
    "        self.fc2 = nn.Linear(nhidden, nhidden)\n",
    "        self.fc3 = nn.Linear(nhidden, nhidden)\n",
    "        self.fc31 = nn.Linear(nhidden, nhidden)\n",
    "        self.fc4 = nn.Linear(nhidden, latent_dim)\n",
    "        self.nfe = 0\n",
    "\n",
    "    def forward(self, t, x):\n",
    "        self.nfe += 1\n",
    "        out = self.fc1(x)\n",
    "        out = self.elu(out)\n",
    "        out = self.fc2(out)\n",
    "        out = self.elu(out)\n",
    "        out = self.fc3(out)\n",
    "        out = self.elu(out)\n",
    "        out = self.fc31(out)\n",
    "        out = self.elu(out)\n",
    "        out = self.fc4(out)\n",
    "        return out\n",
    "\n",
    "class Encoder(nn.Module):\n",
    "\n",
    "    def __init__(self, latent_dim=16, obs_dim=12, nhidden=32, nbatch=1):\n",
    "        super(Encoder, self).__init__()\n",
    "        self.nhidden = nhidden\n",
    "        self.nbatch = nbatch\n",
    "        self.l1 = nn.Linear(obs_dim, nhidden)\n",
    "        self.l2 = nn.Linear(nhidden, nhidden)\n",
    "        self.l22 = nn.Linear(nhidden, nhidden)\n",
    "        self.l3 = nn.Linear(nhidden, latent_dim)\n",
    "\n",
    "    def forward(self, x):\n",
    "        # combined = torch.cat((x, h), dim=1)\n",
    "        h = torch.relu(self.l1(x))\n",
    "        out = self.l2(h)\n",
    "        out = torch.relu(out)\n",
    "        out = self.l22(out)\n",
    "        out = torch.relu(out)\n",
    "        out = self.l3(out)\n",
    "        return out\n",
    "\n",
    "class Decoder(nn.Module):\n",
    "\n",
    "    def __init__(self, latent_dim=16, obs_dim=12, nhidden=32):\n",
    "        super(Decoder, self).__init__()\n",
    "        self.relu = nn.ReLU()\n",
    "        self.fc1 = nn.Linear(latent_dim, nhidden)\n",
    "        self.fc2 = nn.Linear(nhidden, nhidden)\n",
    "        self.fc22 = nn.Linear(nhidden, nhidden)\n",
    "        self.fc3 = nn.Linear(nhidden, obs_dim)\n",
    "\n",
    "    def forward(self, z):\n",
    "        out = self.fc1(z)\n",
    "        out = self.relu(out)\n",
    "        out = self.fc2(out)\n",
    "        out = self.relu(out)\n",
    "        out = self.fc22(out)\n",
    "        out = self.relu(out)\n",
    "        out = self.fc3(out)\n",
    "        return out\n",
    "\n",
    "def animate_trajectories_with_tips(pred_x, x, batch, filepath=\"/mnt/data/trajectory_animation_with_tips.gif\", fps=20):\n",
    "    \"\"\"\n",
    "    Animate and save the trajectories of predicted and true positions with balls at the tips.\n",
    "\n",
    "    Parameters:\n",
    "    - pred_x: Predicted trajectories, expected shape (1, T, 6).\n",
    "    - x: True trajectories, expected shape (1, T, 6).\n",
    "    - batch: Index of the batch for which to plot the trajectories.\n",
    "    - filepath: Path to save the animation GIF.\n",
    "    - fps: Frames per second for the animation.\n",
    "    \"\"\"\n",
    "    T = pred_x.shape[1]  # Number of time steps\n",
    "\n",
    "    fig, ax = plt.subplots()\n",
    "\n",
    "    # Initialize lines for predicted (dashed) and true (solid) trajectories\n",
    "    lines = [plt.plot([], [], \"--\", color=f\"C{i}\")[0] for i in range(3)] + \\\n",
    "            [plt.plot([], [], \"-\", color=f\"C{i}\")[0] for i in range(3)]\n",
    "    # Initialize markers for the tips of each trajectory\n",
    "    markers = [plt.plot([], [], 'x', color=f\"C{i}\")[0] for i in range(3)]+[plt.plot([], [], 'o', color=f\"C{i}\")[0] for i in range(3)]\n",
    "    plt.xlim(-10,10)\n",
    "    plt.ylim(-10,10)\n",
    "    def init():\n",
    "        for line in lines:\n",
    "            line.set_data([], [])\n",
    "        for marker in markers:\n",
    "            marker.set_data([], [])\n",
    "        return lines + markers\n",
    "\n",
    "    def update(frame):\n",
    "        for i in range(3):\n",
    "            # Update predicted trajectories\n",
    "            lines[i].set_data(pred_x[0, :frame, i], pred_x[0, :frame, i+3])\n",
    "            # Update markers for predicted trajectories\n",
    "            markers[i].set_data(pred_x[0, frame-1, i], pred_x[0, frame-1, i+3])\n",
    "            \n",
    "            # Update true trajectories\n",
    "            lines[i+3].set_data(x[batch][ 0, :frame, i], x[batch][ 0, :frame, i+3])\n",
    "            # Update markers for true trajectories\n",
    "            markers[i+3].set_data(x[batch][ 0, frame-1, i], x[batch][0, frame-1, i+3])\n",
    "        return lines + markers\n",
    "\n",
    "    ani = FuncAnimation(fig, update, frames=np.arange(1, T+1), init_func=init, blit=True)\n",
    "\n",
    "    # Save the animation as a GIF\n",
    "    writer = PillowWriter(fps=fps)\n",
    "    ani.save(filepath, writer=writer)\n",
    "\n",
    "    plt.close(fig)  # Close the figure to avoid displaying it in a Jupyter notebook or similar environment\n",
    "\n",
    "fname = \"grouped_data\"\n",
    "if not os.path.isfile(f\"{fname}_x_coords.pt\"):\n",
    "\n",
    "    data,_ = sample_orbits_grouped(time_steps = 80,trials = 5000,t_span=[0,20])\n",
    "    x = torch.tensor( data['coords'], requires_grad=True, dtype=torch.float32)\n",
    "    # test_x = torch.tensor( data['test_coords'], requires_grad=True, dtype=torch.float32)\n",
    "    dxdt = torch.Tensor(data['dcoords'])\n",
    "    torch.save(x,f\"{fname}_x_coords.pt\")\n",
    "    torch.save(dxdt,f\"{fname}_dxdt_vals.pt\")\n",
    "else:\n",
    "    x = torch.load(f\"{fname}_x_coords.pt\")\n",
    "    dxdt = torch.load(f\"{fname}_dxdt_vals.pt\")\n",
    "import sys\n",
    "latent_dim = 16#16\n",
    "nhidden = 16#32\n",
    "obs_dim = 18\n",
    "rnn_nhidden = 16#32\n",
    "noise_std = .001\n",
    "device = \"cuda\"\n",
    "batch_size = 256\n",
    "\n",
    "func = LatentODEfunc(latent_dim,nhidden).to(device)\n",
    "rec = Encoder(latent_dim, obs_dim, rnn_nhidden, batch_size).to(device)\n",
    "dec = Decoder(latent_dim, 12, nhidden).to(device)\n",
    "params = (list(func.parameters()) + list(dec.parameters()) + list(rec.parameters()))\n",
    "optimizer = torch.optim.Adam(params, lr=1e-2)\n",
    "epochs = 2500\n",
    "sample_ts = torch.linspace(0, 20, 80)\n",
    "losses = []\n",
    "x=x.to(device)\n",
    "fname = \"equivariant_ODE\"\n",
    "\n",
    "def equiv_func(p1,p2,p3,v1,v2,v3,rec,func,dec):\n",
    "    sp2 = p2- p1\n",
    "    sp3 = p3- p1\n",
    "    sv1 = v1\n",
    "    sv2 = v2\n",
    "    sv3 = v3\n",
    "    features = []\n",
    "    features.append((sp2*sp2).sum(dim=-1,keepdim    =True))\n",
    "    features.append((sp2*sp3).sum(dim=-1,keepdim    =True))\n",
    "    features.append((sp3*sp3).sum(dim=-1,keepdim    =True))\n",
    "\n",
    "    features.append((sv1*sp2).sum(dim=-1,keepdim    =True))\n",
    "    features.append((sv2*sp2).sum(dim=-1,keepdim    =True))\n",
    "    features.append((sv3*sp2).sum(dim=-1,keepdim    =True))\n",
    "    \n",
    "    features.append((sv1*sp3).sum(dim=-1,keepdim    =True))\n",
    "    features.append((sv2*sp3).sum(dim=-1,keepdim    =True))\n",
    "    features.append((sv3*sp3).sum(dim=-1,keepdim    =True))\n",
    "\n",
    "    features.append((sv1*sv1).sum(dim=-1,keepdim    =True))\n",
    "    features.append((sv2*sv1).sum(dim=-1,keepdim    =True))\n",
    "    features.append((sv3*sv1).sum(dim=-1,keepdim    =True))\n",
    "    features.append((sv1*sv2).sum(dim=-1,keepdim    =True))\n",
    "    features.append((sv2*sv2).sum(dim=-1,keepdim    =True))\n",
    "    features.append((sv3*sv2).sum(dim=-1,keepdim    =True))\n",
    "    features.append((sv1*sv3).sum(dim=-1,keepdim    =True))\n",
    "    features.append((sv2*sv3).sum(dim=-1,keepdim    =True))\n",
    "    features.append((sv3*sv3).sum(dim=-1,keepdim    =True))\n",
    "    features = torch.hstack(features)\n",
    "    out = rec.forward(features)\n",
    "    qz0_mean = out\n",
    "    pred_z = todeint(func, qz0_mean, sample_ts).permute(1, 0, 2)\n",
    "    pred_coeffs = dec(pred_z)\n",
    "    equiv_coeffs_p = torch.softmax(pred_coeffs[:,:,:3],dim=-1)\n",
    "    other_coeffs_p = pred_coeffs[:,:,3:6]\n",
    "    new_p = p1.unsqueeze(1)*equiv_coeffs_p[:,:,0].unsqueeze(-1).repeat(1,1,2)+p2.unsqueeze(1)*equiv_coeffs_p[:,:,1].unsqueeze(-1).repeat(1,1,2)+ p3.unsqueeze(1)*equiv_coeffs_p[:,:,2].unsqueeze(-1).repeat(1,1,2)\\\n",
    "    + v1.unsqueeze(1)*other_coeffs_p[:,:,0].unsqueeze(-1).repeat(1,1,2)+v2.unsqueeze(1)*other_coeffs_p[:,:,1].unsqueeze(-1).repeat(1,1,2)+v3.unsqueeze(1)*other_coeffs_p[:,:,2].unsqueeze(-1).repeat(1,1,2)\n",
    "    \n",
    "    inv_coeffs = pred_coeffs[:,:,6:9]-torch.mean(pred_coeffs[:,:,6:9],dim=-1,keepdim=True)\n",
    "    other_coeffs_v = pred_coeffs[:,:,9:]\n",
    "    new_v = p1.unsqueeze(1)*inv_coeffs[:,:,0].unsqueeze(-1).repeat(1,1,2)+p2.unsqueeze(1)*inv_coeffs[:,:,1].unsqueeze(-1).repeat(1,1,2)+ p3.unsqueeze(1)*inv_coeffs[:,:,2].unsqueeze(-1).repeat(1,1,2)\\\n",
    "    + v1.unsqueeze(1)*other_coeffs_v[:,:,0].unsqueeze(-1).repeat(1,1,2)+v2.unsqueeze(1)*other_coeffs_v[:,:,1].unsqueeze(-1).repeat(1,1,2)+v3.unsqueeze(1)*other_coeffs_v[:,:,2].unsqueeze(-1).repeat(1,1,2)\n",
    "\n",
    "    return new_p,new_v\n",
    "\n",
    "for itr in tqdm(range(1, epochs + 1)):\n",
    "    optimizer.zero_grad()\n",
    "    \n",
    "    # First we get our batch\n",
    "    batch = torch.randperm(len(x))[:batch_size].to(device)\n",
    "    obs = x[batch, 0, :]\n",
    "\n",
    "    # The first features are [x1,x2,x3,y1,y2,y3,vx1,vx2,vx3,vy1,vy2,vy3\n",
    "    # We now get each of the planet positions and velocities separated\n",
    "    mask = [True,False,False]*2+[False]*6\n",
    "    p1 = obs[:,mask]\n",
    "    mask = [False,True,False]*2+[False]*6\n",
    "    p2 = obs[:,mask]\n",
    "    mask = [False,False,True]*2+[False]*6\n",
    "    p3 = obs[:,mask]\n",
    "    mask = [False]*6+[True,False,False]*2\n",
    "    v1 = obs[:,mask]\n",
    "    mask = [False]*6+[False,True,False]*2\n",
    "    v2 = obs[:,mask]\n",
    "    mask = [False]*6+[False,False,True]*2\n",
    "    v3 = obs[:,mask]\n",
    "\n",
    "    planets = [p1,p2,p3]\n",
    "    velocities = [v1,v2,v3]\n",
    "    pred_x = torch.zeros_like(x[batch])\n",
    "\n",
    "    # The following code pushes the permuations into a batch to make things run faster\n",
    "    in1 = []\n",
    "    in2 = []\n",
    "    in3 = []\n",
    "    in4 = []\n",
    "    in5 = []\n",
    "    in6 = []\n",
    "    for i in range(3):\n",
    "        in1.append(planets[i])\n",
    "        in1.append(planets[i])\n",
    "        in2.append(planets[(i+1)%3])\n",
    "        in2.append(planets[(i+2)%3])\n",
    "        in3.append(planets[(i+2)%3])\n",
    "        in3.append(planets[(i+1)%3])\n",
    "        in4.append(velocities[i])\n",
    "        in4.append(velocities[i])\n",
    "        in5.append(velocities[(i+1)%3])\n",
    "        in5.append(velocities[(i+2)%3])\n",
    "        in6.append(velocities[(i+2)%3])\n",
    "        in6.append(velocities[(i+1)%3])\n",
    "    in1 = torch.cat(in1,dim=0)\n",
    "    in2 = torch.cat(in2,dim=0)\n",
    "    in3 = torch.cat(in3,dim=0)\n",
    "    in4 = torch.cat(in4,dim=0)\n",
    "    in5 = torch.cat(in5,dim=0)\n",
    "    in6 = torch.cat(in6,dim=0)\n",
    "\n",
    "    # This is the velocity constant of the system, it should never change\n",
    "    c = (v1+v2+v3)/3\n",
    "    c = c.unsqueeze(1).repeat(1,80,1)\n",
    "    output_p,output_v = equiv_func(in1,in2,in3,in4,in5,in6,rec,func,dec)\n",
    "    for i in range(3):\n",
    "        new_p = output_p[2*i*batch_size:(2*i+1)*batch_size]\n",
    "        new_v = output_v[2*i*batch_size:(2*i+1)*batch_size]\n",
    "\n",
    "        avg = 1/3*(output_v[2*0*batch_size:(2*0+1)*batch_size]+output_v[2*1*batch_size:(2*1+1)*batch_size]+output_v[2*2*batch_size:(2*2+1)*batch_size])\n",
    "        new_pn = output_p[(2*i+1)*batch_size:(2*i+2)*batch_size]\n",
    "        new_vn = output_v[(2*i+1)*batch_size:(2*i+2)*batch_size]\n",
    "        avg_n = 1/3*(output_v[(2*0+1)*batch_size:(2*0+2)*batch_size]+output_v[(2*1+1)*batch_size:(2*1+2)*batch_size]+output_v[(2*2+1)*batch_size:(2*2+2)*batch_size])\n",
    "        \n",
    "        avg = avg+avg_n\n",
    "        new_p  = new_p + new_pn\n",
    "        # This makes it so the velocity constant is the same.\n",
    "        new_v  = (new_v + new_vn) - avg + c\n",
    "        pred_x[:,:,i] = new_p[:,:,0]\n",
    "        pred_x[:,:,3+i] = new_p[:,:,1]\n",
    "        pred_x[:,:,6+i] = new_v[:,:,0]\n",
    "        pred_x[:,:,9+i] = new_v[:,:,1]\n",
    "    start = pred_x[:,0,:6]\n",
    "\n",
    "    # Plan, for each planet I need to do this\n",
    "    # shift the locations of the other planets around our current planet\n",
    "    # compute the dot products between everything, feed them into the model to compute one order\n",
    "    # produce 12 coefficients 6 add to velocity 6 add to position\n",
    "    # The coefficients of the ps in the positions add to one, while for the velocity they add to zero\n",
    "    if itr %500==0:\n",
    "        animate_trajectories_with_tips(pred_x.detach().cpu(),x.detach().cpu(),batch.detach().cpu(),fname+\".gif\")\n",
    "\n",
    "    loss = F.mse_loss(pred_x,x[batch])\n",
    "    loss.backward()\n",
    "    optimizer.step()\n",
    "    losses.append(loss.item())\n",
    "\n",
    "    print('Iter: {}, running avg elbo: {:.4f}'.format(itr, -np.mean(losses)))\n",
    "plt.clf()\n",
    "plt.plot(losses)\n",
    "plt.savefig(fname + \".png\")"
   ]
  },
  {
   "cell_type": "markdown",
   "metadata": {},
   "source": [
    "### Loss and Training results\n",
    "In general the training of this model started with a much higher loss, likely due to only training on the inner products of vectors. Over time the training loss converged to a lower value than that of the non-equivariant version.\n",
    "\n",
    "![](figures/equivariant_ODE.png)\n",
    "\n",
    "### Discussion\n",
    "It appears that adding the equivariance improved the performance of the model by a large margin. It was able to not only model the relative positions of the planets but also some of the finer movements like spirals and small loops. Additionally, the model performed far better on data from outside the distribution, such as if we started from a different initial position or different initial velocities. \n",
    "\n",
    "We tested many different variations of model width and length, batch size, learning rate, activation functions, and ODE sovlers. We found that the best configuration was a width of 16, 5 layers, ReLU, batch size of 256, and dopri5. Typically when we introduced more layers or wider layers our gradients would diverge.\n",
    "\n",
    "Additionally, because we performed the ODE integration in some latent space, we are able to visualize the movement through latent space of all of the three planets. We used PCA to reduce the dimensionality of it down to three dimensions. In spite of this, the latent space is not very informational, but we include it to be thorough\n",
    "\n",
    "Note that in these visualizations. The solid circles represent the actual trajectories and the crosses represent the predictions.\n",
    "\n",
    "![](examples/equivariant_ODE.gif)\n",
    "\n",
    "![](figures/3d_projection_of_latent_space.png)\n",
    "\n"
   ]
  },
  {
   "cell_type": "markdown",
   "metadata": {},
   "source": [
    "# Conclusion"
   ]
  },
  {
   "cell_type": "markdown",
   "metadata": {},
   "source": [
    "For this project, we modeled the three-body problem using Hamiltonian Neural Networks and neural ODEs. Overall, we found that incorportating symmetries improved training. We incorporating prior knowledge about the velocity and acceleration, translational invariance, rotational equivariance, conservation of momentum, and permutation symmetries. Furthermore, we found neural ODEs to be more capable of modeling the trajectories. However, we found that incorporating too many symmetries resulted in unstable training. The best results were found when incorporating most of the symmetries using a latent space. It seems that incorporating the right number of symmetries (not too many or too few) results in the best models. Future work could experiment with the adjoint method of backpropagation (which we found to be unfeasibly slow) or with different integration methods packages."
   ]
  }
 ],
 "metadata": {
  "kernelspec": {
   "display_name": "mainenv",
   "language": "python",
   "name": "python3"
  },
  "language_info": {
   "codemirror_mode": {
    "name": "ipython",
    "version": 3
   },
   "file_extension": ".py",
   "mimetype": "text/x-python",
   "name": "python",
   "nbconvert_exporter": "python",
   "pygments_lexer": "ipython3",
   "version": "3.10.12"
  }
 },
 "nbformat": 4,
 "nbformat_minor": 2
}
