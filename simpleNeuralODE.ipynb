{
 "cells": [
  {
   "cell_type": "code",
   "execution_count": 21,
   "metadata": {},
   "outputs": [],
   "source": [
    "from data import get_orbit, random_config\n",
    "import numpy as np\n",
    "import matplotlib.pyplot as plt\n",
    "import matplotlib.animation as animation\n",
    "import math\n",
    "import torch\n",
    "import torch.nn as nn\n",
    "from torchdiffeq import odeint\n",
    "device = torch.device(\"cpu\")"
   ]
  },
  {
   "cell_type": "code",
   "execution_count": 22,
   "metadata": {},
   "outputs": [],
   "source": [
    "num_steps = 500\n",
    "state = random_config(nu=2e-1, min_radius=0.9, max_radius=1.8)\n",
    "orbit, settings = get_orbit(state, t_points=num_steps, t_span=[0,15], nbodies=3)\n",
    "state = state[:,1:]\n",
    "orbit = orbit[:,1:]"
   ]
  },
  {
   "cell_type": "code",
   "execution_count": 27,
   "metadata": {},
   "outputs": [],
   "source": [
    "class NeuralODE(nn.Module):\n",
    "    def __init__(self):\n",
    "        super().__init__()\n",
    "        self.odefunc = mlp(\n",
    "            input_dim = 6,\n",
    "            hidden_dim = 32,\n",
    "            output_dim = 6,\n",
    "            hidden_depth = 4\n",
    "        )\n",
    "\n",
    "        def init(m):\n",
    "            if isinstance(m, nn.Linear):\n",
    "                std = 1.0 / np.sqrt(m.weight.size(1))\n",
    "                m.weight.data.uniform_(-2.0 * std, 2.0 * std)\n",
    "                m.bias.data.zero_()\n",
    "\n",
    "        self.odefunc.apply(init)\n",
    "\n",
    "    def forward(self, t, state):\n",
    "        state_reshaped = torch.flatten(state[:,:2], start_dim = -2)\n",
    "        acceleration = self.odefunc(state_reshaped).view(3, 2)\n",
    "        acceleration = acceleration - acceleration.mean(dim = -2, keepdim = True)\n",
    "        return torch.cat((state[:,2:], acceleration), dim = -1)\n",
    "\n",
    "    def simulate(self, state, times):\n",
    "        solution = odeint(self, state, times, atol=1e-8, rtol=1e-8, method=\"dopri5\", options = {\"dtype\": torch.float32})\n",
    "        # B, S, T\n",
    "        return solution\n",
    "\n",
    "def mlp(input_dim, hidden_dim, output_dim, hidden_depth, output_mod=None, act=nn.ReLU):\n",
    "    if hidden_depth == 0:\n",
    "        mods = [nn.Linear(input_dim, output_dim)]\n",
    "    else:\n",
    "        mods = [nn.Linear(input_dim, hidden_dim), act()]\n",
    "        for i in range(hidden_depth - 1):\n",
    "            mods += [nn.Linear(hidden_dim, hidden_dim), act()]\n",
    "        mods.append(nn.Linear(hidden_dim, output_dim))\n",
    "    if output_mod is not None:\n",
    "        mods.append(output_mod)\n",
    "    trunk = nn.Sequential(*mods)\n",
    "    return trunk"
   ]
  },
  {
   "cell_type": "code",
   "execution_count": 29,
   "metadata": {},
   "outputs": [
    {
     "name": "stdout",
     "output_type": "stream",
     "text": [
      "cpu\n",
      "0 99.6463623046875\n",
      "20 0.8788069486618042\n",
      "40 0.5436152219772339\n",
      "60 0.30772674083709717\n",
      "80 0.2358713448047638\n",
      "100 0.14826810359954834\n",
      "120 0.13864603638648987\n",
      "140 0.12354572862386703\n",
      "160 0.10564061254262924\n",
      "180 0.09333856403827667\n",
      "200 0.1206371858716011\n",
      "220 0.10642272233963013\n",
      "240 0.09129658341407776\n",
      "260 0.07102501392364502\n",
      "280 0.0892290249466896\n",
      "300 0.08427804708480835\n",
      "320 0.06288321316242218\n",
      "340 0.07288199663162231\n",
      "360 0.06917164474725723\n",
      "380 0.06964950263500214\n",
      "400 0.05305972322821617\n",
      "420 0.05470011383295059\n",
      "440 0.04988674819469452\n",
      "460 0.05828162282705307\n",
      "480 0.047137681394815445\n",
      "500 0.04681381583213806\n",
      "520 0.03597451373934746\n",
      "540 0.06456243991851807\n",
      "560 0.03444131091237068\n",
      "580 0.04041973128914833\n",
      "600 0.036899954080581665\n",
      "620 0.037405479699373245\n",
      "640 0.04988192394375801\n",
      "660 0.04165372624993324\n",
      "680 0.037732742726802826\n",
      "700 0.06946215033531189\n",
      "720 0.030065186321735382\n",
      "740 0.043103575706481934\n",
      "760 0.03397577255964279\n",
      "780 0.05111880600452423\n",
      "800 0.05730555206537247\n",
      "820 0.04427725076675415\n",
      "840 0.027116015553474426\n",
      "860 0.028015363961458206\n",
      "880 0.03251412883400917\n",
      "900 0.028904886916279793\n",
      "920 0.02912941202521324\n",
      "940 0.028477976098656654\n",
      "960 0.03133720904588699\n",
      "980 0.05133681744337082\n"
     ]
    }
   ],
   "source": [
    "state_tensor = torch.Tensor(state).to(device)\n",
    "orbit_tensor = torch.Tensor(orbit).to(device)\n",
    "model = NeuralODE().to(device)\n",
    "model.train()\n",
    "decay = 1.0\n",
    "obs_times = torch.linspace(0, 15, num_steps).to(device)\n",
    "lr = 0.1\n",
    "num_iter = 1000\n",
    "optimizer = torch.optim.Adam(model.parameters(), lr=0.015)\n",
    "weights = 1.0**obs_times\n",
    "\n",
    "\n",
    "for itr in range(num_iter):\n",
    "    optimizer.zero_grad()\n",
    "    trajectory = torch.permute(model.simulate(state_tensor, obs_times), (1, 2, 0))\n",
    "    loss = (\n",
    "        (trajectory - orbit_tensor)\n",
    "        .abs()\n",
    "        .mul(weights)\n",
    "        .mean()\n",
    "    )\n",
    "    if itr % 20 == 0:\n",
    "        print(itr, loss.item())\n",
    "    loss.backward()\n",
    "\n",
    "    optimizer.step()"
   ]
  },
  {
   "cell_type": "code",
   "execution_count": 30,
   "metadata": {},
   "outputs": [
    {
     "data": {
      "image/png": "[encoded data removed]",
      "text/plain": [
       "<Figure size 640x480 with 1 Axes>"
      ]
     },
     "metadata": {},
     "output_type": "display_data"
    }
   ],
   "source": [
    "# B, S, T\n",
    "positions = orbit.transpose(2,0,1)[:,:,:2]\n",
    "predictions = trajectory.detach().cpu().numpy().transpose(2,0,1)[:,:,:2]\n",
    "file_name = \"fixed_orbit\"\n",
    "# Animation\n",
    "# Animation setup\n",
    "fig, ax = plt.subplots()\n",
    "ax.set_xlim(-30, 30)\n",
    "ax.set_ylim(-30, 30)\n",
    "\n",
    "# Original positions visualized with 'o' markers and solid lines for trajectories\n",
    "lines = [ax.plot([], [], 'o')[0] for _ in range(3)]\n",
    "# Store colors for reuse with approximated trajectories\n",
    "colors = [f\"C{_}\" for _ in range(3)]\n",
    "trajectories = [ax.plot([], [], '-', linewidth=0.5, color=colors[_])[0] for _ in range(3)]\n",
    "\n",
    "# Approximated positions visualized with 'x' markers and dotted lines for trajectories\n",
    "# Use the same colors as the original trajectories\n",
    "lines_approx = [ax.plot([], [], 'x', color=colors[_])[0] for _ in range(3)]\n",
    "trajectories_approx = [ax.plot([], [], '--', linewidth=0.5, color=colors[_])[0] for _ in range(3)]\n",
    "\n",
    "def init():\n",
    "    for line in lines + lines_approx:\n",
    "        line.set_data([], [])\n",
    "    for traj in trajectories + trajectories_approx:\n",
    "        traj.set_data([], [])\n",
    "    return lines + trajectories + lines_approx + trajectories_approx\n",
    "\n",
    "def animate(i):\n",
    "    if len(positions[:i,:,0]) != 0:\n",
    "        all_x = np.concatenate((positions[:i, :, 0].flatten(), predictions[:i, :, 0].flatten()))\n",
    "        all_y = np.concatenate((positions[:i, :, 1].flatten(), predictions[:i, :, 1].flatten()))\n",
    "        min_x, max_x = all_x.min() - 10, all_x.max() + 10\n",
    "        min_y, max_y = all_y.min() - 10, all_y.max() + 10\n",
    "        ax.set_xlim(min_x, max_x)\n",
    "        ax.set_ylim(min_y, max_y)\n",
    "\n",
    "    for j, (line, line_approx) in enumerate(zip(lines, lines_approx)):\n",
    "        # Update original positions and trajectories\n",
    "        line.set_data(positions[i, j, 0], positions[i, j, 1])\n",
    "        trajectories[j].set_data(positions[:i, j, 0], positions[:i, j, 1])\n",
    "        \n",
    "        # Update approximated positions and trajectories\n",
    "        line_approx.set_data(predictions[i, j, 0], predictions[i, j, 1])\n",
    "        trajectories_approx[j].set_data(predictions[:i, j, 0], predictions[:i, j, 1])\n",
    "\n",
    "    return lines + trajectories + lines_approx + trajectories_approx\n",
    "\n",
    "# Assuming num_steps is defined\n",
    "ani = animation.FuncAnimation(fig, animate, frames=range(0, num_steps, 2), init_func=init, blit=True, interval=1)\n",
    "\n",
    "# To save the animation\n",
    "writergif = animation.PillowWriter(fps=50)\n",
    "ani.save(f'{file_name}.gif', writer=writergif)\n",
    "\n",
    "plt.show()"
   ]
  },
  {
   "cell_type": "code",
   "execution_count": 199,
   "metadata": {},
   "outputs": [
    {
     "name": "stdout",
     "output_type": "stream",
     "text": [
      "tensor([-5.9605e-08,  5.9605e-08])\n",
      "tensor([ 7.7486e-07, -2.3842e-07], grad_fn=<SumBackward1>)\n",
      "tensor([[-0.6135,  0.8321, -0.5132, -0.4049],\n",
      "        [-0.4139, -0.9473,  0.8112, -0.2727],\n",
      "        [ 1.0273,  0.1152, -0.0932,  0.7149]])\n",
      "tensor([[-0.6135,  0.8321, -0.5132, -0.4049],\n",
      "        [-0.4139, -0.9473,  0.8112, -0.2727],\n",
      "        [ 1.0273,  0.1152, -0.0932,  0.7149]], grad_fn=<SelectBackward0>)\n"
     ]
    }
   ],
   "source": [
    "print(torch.sum(orbit_tensor[:,2:,-1] - orbit_tensor[:,2:,0], dim = 0))\n",
    "print(torch.sum(trajectory[:,2:,-1] - trajectory[:,2:,0], dim = 0))\n",
    "print(orbit_tensor[:,:,0])\n",
    "print(trajectory[:,:,0])"
   ]
  },
  {
   "cell_type": "code",
   "execution_count": 49,
   "metadata": {},
   "outputs": [
    {
     "name": "stdout",
     "output_type": "stream",
     "text": [
      "(500, 3, 2)\n",
      "(3, 4, 500)\n",
      "(3, 4)\n",
      "[ 1.70619011 -1.33122881 -0.3749613 ]\n"
     ]
    }
   ],
   "source": [
    "print(positions.shape)\n",
    "print(orbit.shape)\n",
    "print(state.shape)\n",
    "print(state[:,0])"
   ]
  }
 ],
 "metadata": {
  "kernelspec": {
   "display_name": "Python 3",
   "language": "python",
   "name": "python3"
  },
  "language_info": {
   "codemirror_mode": {
    "name": "ipython",
    "version": 3
   },
   "file_extension": ".py",
   "mimetype": "text/x-python",
   "name": "python",
   "nbconvert_exporter": "python",
   "pygments_lexer": "ipython3",
   "version": "3.10.13"
  },
  "orig_nbformat": 4
 },
 "nbformat": 4,
 "nbformat_minor": 2
}
