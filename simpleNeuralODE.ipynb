{
 "cells": [
  {
   "cell_type": "code",
   "execution_count": 238,
   "metadata": {},
   "outputs": [],
   "source": [
    "from data import get_orbit, random_config\n",
    "import numpy as np\n",
    "import matplotlib.pyplot as plt\n",
    "import matplotlib.animation as animation\n",
    "import math\n",
    "import torch\n",
    "import torch.nn as nn\n",
    "from torchdiffeq import odeint\n",
    "device = torch.device(\"mps\")"
   ]
  },
  {
   "cell_type": "code",
   "execution_count": 242,
   "metadata": {},
   "outputs": [
    {
     "ename": "ModuleNotFoundError",
     "evalue": "No module named 'dotenv'",
     "output_type": "error",
     "traceback": [
      "\u001b[0;31m---------------------------------------------------------------------------\u001b[0m",
      "\u001b[0;31mModuleNotFoundError\u001b[0m                       Traceback (most recent call last)",
      "Cell \u001b[0;32mIn[242], line 1\u001b[0m\n\u001b[0;32m----> 1\u001b[0m \u001b[39mimport\u001b[39;00m \u001b[39mdotenv\u001b[39;00m\n\u001b[1;32m      2\u001b[0m \u001b[39mfrom\u001b[39;00m \u001b[39mos\u001b[39;00m \u001b[39mimport\u001b[39;00m environ\n\u001b[1;32m      3\u001b[0m env_file \u001b[39m=\u001b[39m \u001b[39m'\u001b[39m\u001b[39m../.env\u001b[39m\u001b[39m'\u001b[39m\n",
      "\u001b[0;31mModuleNotFoundError\u001b[0m: No module named 'dotenv'"
     ]
    }
   ],
   "source": [
    "import dotenv\n",
    "from os import environ\n",
    "env_file = '../.env'\n",
    "\n",
    "f = open(env_file,'w')\n",
    "f.write('PYTORCH_ENABLE_MPS_FALLBACK=1')\n",
    "f.close()\n",
    "dotenv.load_dotenv(env_file, override=True)\n",
    "print(\"done\")"
   ]
  },
  {
   "cell_type": "code",
   "execution_count": 110,
   "metadata": {},
   "outputs": [],
   "source": [
    "num_steps = 500\n",
    "state = random_config(nu=2e-1, min_radius=0.9, max_radius=1.8)\n",
    "orbit, settings = get_orbit(state, t_points=num_steps, t_span=[0,15], nbodies=3)\n",
    "state = state[:,1:]\n",
    "orbit = orbit[:,1:]"
   ]
  },
  {
   "cell_type": "code",
   "execution_count": 239,
   "metadata": {},
   "outputs": [],
   "source": [
    "class NeuralODE(nn.Module):\n",
    "    def __init__(self):\n",
    "        super().__init__()\n",
    "        self.odefunc = mlp(\n",
    "            input_dim = 6,\n",
    "            hidden_dim = 32,\n",
    "            output_dim = 6,\n",
    "            hidden_depth = 4\n",
    "        )\n",
    "\n",
    "        def init(m):\n",
    "            if isinstance(m, nn.Linear):\n",
    "                std = 1.0 / np.sqrt(m.weight.size(1))\n",
    "                m.weight.data.uniform_(-2.0 * std, 2.0 * std)\n",
    "                m.bias.data.zero_()\n",
    "\n",
    "        self.odefunc.apply(init)\n",
    "\n",
    "    def forward(self, t, state):\n",
    "        state_reshaped = torch.flatten(state[:,:2], start_dim = -2)\n",
    "        acceleration = self.odefunc(state_reshaped).view(3, 2)\n",
    "        acceleration = acceleration - acceleration.mean(dim = -2, keepdim = True)\n",
    "        return torch.cat((state[:,2:], acceleration), dim = -1)\n",
    "\n",
    "    def simulate(self, state, times):\n",
    "        solution = odeint(self, state, times, atol=1e-8, rtol=1e-8, method=\"dopri5\", options = {\"dtype\": torch.float32})\n",
    "        # B, S, T\n",
    "        return solution\n",
    "\n",
    "def mlp(input_dim, hidden_dim, output_dim, hidden_depth, output_mod=None, act=nn.ReLU):\n",
    "    if hidden_depth == 0:\n",
    "        mods = [nn.Linear(input_dim, output_dim)]\n",
    "    else:\n",
    "        mods = [nn.Linear(input_dim, hidden_dim), act()]\n",
    "        for i in range(hidden_depth - 1):\n",
    "            mods += [nn.Linear(hidden_dim, hidden_dim), act()]\n",
    "        mods.append(nn.Linear(hidden_dim, output_dim))\n",
    "    if output_mod is not None:\n",
    "        mods.append(output_mod)\n",
    "    trunk = nn.Sequential(*mods)\n",
    "    return trunk"
   ]
  },
  {
   "cell_type": "code",
   "execution_count": 240,
   "metadata": {},
   "outputs": [
    {
     "name": "stdout",
     "output_type": "stream",
     "text": [
      "torch.float32\n",
      "torch.float32\n",
      "torch.float32\n"
     ]
    },
    {
     "ename": "NotImplementedError",
     "evalue": "The operator 'aten::_unique2' is not currently implemented for the MPS device. If you want this op to be added in priority during the prototype phase of this feature, please comment on https://github.com/pytorch/pytorch/issues/77764. As a temporary fix, you can set the environment variable `PYTORCH_ENABLE_MPS_FALLBACK=1` to use the CPU as a fallback for this op. WARNING: this will be slower than running natively on MPS.",
     "output_type": "error",
     "traceback": [
      "\u001b[0;31m---------------------------------------------------------------------------\u001b[0m",
      "\u001b[0;31mNotImplementedError\u001b[0m                       Traceback (most recent call last)",
      "Cell \u001b[0;32mIn[240], line 18\u001b[0m\n\u001b[1;32m     16\u001b[0m \u001b[39mfor\u001b[39;00m itr \u001b[39min\u001b[39;00m \u001b[39mrange\u001b[39m(num_iter):\n\u001b[1;32m     17\u001b[0m     optimizer\u001b[39m.\u001b[39mzero_grad()\n\u001b[0;32m---> 18\u001b[0m     trajectory \u001b[39m=\u001b[39m torch\u001b[39m.\u001b[39mpermute(model\u001b[39m.\u001b[39;49msimulate(state_tensor, obs_times), (\u001b[39m1\u001b[39m, \u001b[39m2\u001b[39m, \u001b[39m0\u001b[39m))\n\u001b[1;32m     19\u001b[0m     loss \u001b[39m=\u001b[39m (\n\u001b[1;32m     20\u001b[0m         (trajectory \u001b[39m-\u001b[39m orbit_tensor)\n\u001b[1;32m     21\u001b[0m         \u001b[39m.\u001b[39mabs()\n\u001b[1;32m     22\u001b[0m         \u001b[39m.\u001b[39mmul(weights)\n\u001b[1;32m     23\u001b[0m         \u001b[39m.\u001b[39mmean()\n\u001b[1;32m     24\u001b[0m     )\n\u001b[1;32m     25\u001b[0m     \u001b[39mif\u001b[39;00m itr \u001b[39m%\u001b[39m \u001b[39m20\u001b[39m \u001b[39m==\u001b[39m \u001b[39m0\u001b[39m:\n",
      "Cell \u001b[0;32mIn[239], line 26\u001b[0m, in \u001b[0;36mNeuralODE.simulate\u001b[0;34m(self, state, times)\u001b[0m\n\u001b[1;32m     25\u001b[0m \u001b[39mdef\u001b[39;00m \u001b[39msimulate\u001b[39m(\u001b[39mself\u001b[39m, state, times):\n\u001b[0;32m---> 26\u001b[0m     solution \u001b[39m=\u001b[39m odeint(\u001b[39mself\u001b[39;49m, state, times, atol\u001b[39m=\u001b[39;49m\u001b[39m1e-8\u001b[39;49m, rtol\u001b[39m=\u001b[39;49m\u001b[39m1e-8\u001b[39;49m, method\u001b[39m=\u001b[39;49m\u001b[39m\"\u001b[39;49m\u001b[39mdopri5\u001b[39;49m\u001b[39m\"\u001b[39;49m, options \u001b[39m=\u001b[39;49m {\u001b[39m\"\u001b[39;49m\u001b[39mdtype\u001b[39;49m\u001b[39m\"\u001b[39;49m: torch\u001b[39m.\u001b[39;49mfloat32})\n\u001b[1;32m     27\u001b[0m     \u001b[39m# B, S, T\u001b[39;00m\n\u001b[1;32m     28\u001b[0m     \u001b[39mreturn\u001b[39;00m solution\n",
      "File \u001b[0;32m/opt/homebrew/lib/python3.10/site-packages/torchdiffeq/_impl/odeint.py:77\u001b[0m, in \u001b[0;36modeint\u001b[0;34m(func, y0, t, rtol, atol, method, options, event_fn)\u001b[0m\n\u001b[1;32m     74\u001b[0m solver \u001b[39m=\u001b[39m SOLVERS[method](func\u001b[39m=\u001b[39mfunc, y0\u001b[39m=\u001b[39my0, rtol\u001b[39m=\u001b[39mrtol, atol\u001b[39m=\u001b[39matol, \u001b[39m*\u001b[39m\u001b[39m*\u001b[39moptions)\n\u001b[1;32m     76\u001b[0m \u001b[39mif\u001b[39;00m event_fn \u001b[39mis\u001b[39;00m \u001b[39mNone\u001b[39;00m:\n\u001b[0;32m---> 77\u001b[0m     solution \u001b[39m=\u001b[39m solver\u001b[39m.\u001b[39;49mintegrate(t)\n\u001b[1;32m     78\u001b[0m \u001b[39melse\u001b[39;00m:\n\u001b[1;32m     79\u001b[0m     event_t, solution \u001b[39m=\u001b[39m solver\u001b[39m.\u001b[39mintegrate_until_event(t[\u001b[39m0\u001b[39m], event_fn)\n",
      "File \u001b[0;32m/opt/homebrew/lib/python3.10/site-packages/torchdiffeq/_impl/solvers.py:28\u001b[0m, in \u001b[0;36mAdaptiveStepsizeODESolver.integrate\u001b[0;34m(self, t)\u001b[0m\n\u001b[1;32m     26\u001b[0m solution[\u001b[39m0\u001b[39m] \u001b[39m=\u001b[39m \u001b[39mself\u001b[39m\u001b[39m.\u001b[39my0\n\u001b[1;32m     27\u001b[0m t \u001b[39m=\u001b[39m t\u001b[39m.\u001b[39mto(\u001b[39mself\u001b[39m\u001b[39m.\u001b[39mdtype)\n\u001b[0;32m---> 28\u001b[0m \u001b[39mself\u001b[39;49m\u001b[39m.\u001b[39;49m_before_integrate(t)\n\u001b[1;32m     29\u001b[0m \u001b[39mfor\u001b[39;00m i \u001b[39min\u001b[39;00m \u001b[39mrange\u001b[39m(\u001b[39m1\u001b[39m, \u001b[39mlen\u001b[39m(t)):\n\u001b[1;32m     30\u001b[0m     solution[i] \u001b[39m=\u001b[39m \u001b[39mself\u001b[39m\u001b[39m.\u001b[39m_advance(t[i])\n",
      "File \u001b[0;32m/opt/homebrew/lib/python3.10/site-packages/torchdiffeq/_impl/rk_common.py:180\u001b[0m, in \u001b[0;36mRKAdaptiveStepsizeODESolver._before_integrate\u001b[0;34m(self, t)\u001b[0m\n\u001b[1;32m    178\u001b[0m     jump_t \u001b[39m=\u001b[39m _sort_tvals(\u001b[39mself\u001b[39m\u001b[39m.\u001b[39mjump_t, t0)\n\u001b[1;32m    179\u001b[0m     jump_t \u001b[39m=\u001b[39m jump_t\u001b[39m.\u001b[39mto(\u001b[39mself\u001b[39m\u001b[39m.\u001b[39mdtype)\n\u001b[0;32m--> 180\u001b[0m counts \u001b[39m=\u001b[39m torch\u001b[39m.\u001b[39;49mcat([step_t, jump_t])\u001b[39m.\u001b[39;49munique(return_counts\u001b[39m=\u001b[39;49m\u001b[39mTrue\u001b[39;49;00m)[\u001b[39m1\u001b[39m]\n\u001b[1;32m    181\u001b[0m \u001b[39mif\u001b[39;00m (counts \u001b[39m>\u001b[39m \u001b[39m1\u001b[39m)\u001b[39m.\u001b[39many():\n\u001b[1;32m    182\u001b[0m     \u001b[39mraise\u001b[39;00m \u001b[39mValueError\u001b[39;00m(\u001b[39m\"\u001b[39m\u001b[39m`step_t` and `jump_t` must not have any repeated elements between them.\u001b[39m\u001b[39m\"\u001b[39m)\n",
      "File \u001b[0;32m/opt/homebrew/lib/python3.10/site-packages/torch/_tensor.py:805\u001b[0m, in \u001b[0;36mTensor.unique\u001b[0;34m(self, sorted, return_inverse, return_counts, dim)\u001b[0m\n\u001b[1;32m    795\u001b[0m \u001b[39mif\u001b[39;00m has_torch_function_unary(\u001b[39mself\u001b[39m):\n\u001b[1;32m    796\u001b[0m     \u001b[39mreturn\u001b[39;00m handle_torch_function(\n\u001b[1;32m    797\u001b[0m         Tensor\u001b[39m.\u001b[39munique,\n\u001b[1;32m    798\u001b[0m         (\u001b[39mself\u001b[39m,),\n\u001b[0;32m   (...)\u001b[0m\n\u001b[1;32m    803\u001b[0m         dim\u001b[39m=\u001b[39mdim,\n\u001b[1;32m    804\u001b[0m     )\n\u001b[0;32m--> 805\u001b[0m \u001b[39mreturn\u001b[39;00m torch\u001b[39m.\u001b[39;49munique(\n\u001b[1;32m    806\u001b[0m     \u001b[39mself\u001b[39;49m,\n\u001b[1;32m    807\u001b[0m     \u001b[39msorted\u001b[39;49m\u001b[39m=\u001b[39;49m\u001b[39msorted\u001b[39;49m,\n\u001b[1;32m    808\u001b[0m     return_inverse\u001b[39m=\u001b[39;49mreturn_inverse,\n\u001b[1;32m    809\u001b[0m     return_counts\u001b[39m=\u001b[39;49mreturn_counts,\n\u001b[1;32m    810\u001b[0m     dim\u001b[39m=\u001b[39;49mdim,\n\u001b[1;32m    811\u001b[0m )\n",
      "File \u001b[0;32m/opt/homebrew/lib/python3.10/site-packages/torch/_jit_internal.py:485\u001b[0m, in \u001b[0;36mboolean_dispatch.<locals>.fn\u001b[0;34m(*args, **kwargs)\u001b[0m\n\u001b[1;32m    483\u001b[0m     \u001b[39mreturn\u001b[39;00m if_true(\u001b[39m*\u001b[39margs, \u001b[39m*\u001b[39m\u001b[39m*\u001b[39mkwargs)\n\u001b[1;32m    484\u001b[0m \u001b[39melse\u001b[39;00m:\n\u001b[0;32m--> 485\u001b[0m     \u001b[39mreturn\u001b[39;00m if_false(\u001b[39m*\u001b[39;49margs, \u001b[39m*\u001b[39;49m\u001b[39m*\u001b[39;49mkwargs)\n",
      "File \u001b[0;32m/opt/homebrew/lib/python3.10/site-packages/torch/_jit_internal.py:483\u001b[0m, in \u001b[0;36mboolean_dispatch.<locals>.fn\u001b[0;34m(*args, **kwargs)\u001b[0m\n\u001b[1;32m    480\u001b[0m     dispatch_flag \u001b[39m=\u001b[39m args[arg_index]\n\u001b[1;32m    482\u001b[0m \u001b[39mif\u001b[39;00m dispatch_flag:\n\u001b[0;32m--> 483\u001b[0m     \u001b[39mreturn\u001b[39;00m if_true(\u001b[39m*\u001b[39;49margs, \u001b[39m*\u001b[39;49m\u001b[39m*\u001b[39;49mkwargs)\n\u001b[1;32m    484\u001b[0m \u001b[39melse\u001b[39;00m:\n\u001b[1;32m    485\u001b[0m     \u001b[39mreturn\u001b[39;00m if_false(\u001b[39m*\u001b[39margs, \u001b[39m*\u001b[39m\u001b[39m*\u001b[39mkwargs)\n",
      "File \u001b[0;32m/opt/homebrew/lib/python3.10/site-packages/torch/functional.py:867\u001b[0m, in \u001b[0;36m_return_counts\u001b[0;34m(input, sorted, return_inverse, return_counts, dim)\u001b[0m\n\u001b[1;32m    864\u001b[0m \u001b[39mif\u001b[39;00m has_torch_function_unary(\u001b[39minput\u001b[39m):\n\u001b[1;32m    865\u001b[0m     \u001b[39mreturn\u001b[39;00m _unique_impl(\u001b[39minput\u001b[39m, \u001b[39msorted\u001b[39m, return_inverse, return_counts, dim)\n\u001b[0;32m--> 867\u001b[0m output, _, counts \u001b[39m=\u001b[39m _unique_impl(\u001b[39minput\u001b[39;49m, \u001b[39msorted\u001b[39;49m, return_inverse, return_counts, dim)\n\u001b[1;32m    868\u001b[0m \u001b[39mreturn\u001b[39;00m output, counts\n",
      "File \u001b[0;32m/opt/homebrew/lib/python3.10/site-packages/torch/functional.py:791\u001b[0m, in \u001b[0;36m_unique_impl\u001b[0;34m(input, sorted, return_inverse, return_counts, dim)\u001b[0m\n\u001b[1;32m    783\u001b[0m     output, inverse_indices, counts \u001b[39m=\u001b[39m _VF\u001b[39m.\u001b[39munique_dim(\n\u001b[1;32m    784\u001b[0m         \u001b[39minput\u001b[39m,\n\u001b[1;32m    785\u001b[0m         dim,\n\u001b[0;32m   (...)\u001b[0m\n\u001b[1;32m    788\u001b[0m         return_counts\u001b[39m=\u001b[39mreturn_counts,\n\u001b[1;32m    789\u001b[0m     )\n\u001b[1;32m    790\u001b[0m \u001b[39melse\u001b[39;00m:\n\u001b[0;32m--> 791\u001b[0m     output, inverse_indices, counts \u001b[39m=\u001b[39m torch\u001b[39m.\u001b[39;49m_unique2(\n\u001b[1;32m    792\u001b[0m         \u001b[39minput\u001b[39;49m,\n\u001b[1;32m    793\u001b[0m         \u001b[39msorted\u001b[39;49m\u001b[39m=\u001b[39;49m\u001b[39msorted\u001b[39;49m,\n\u001b[1;32m    794\u001b[0m         return_inverse\u001b[39m=\u001b[39;49mreturn_inverse,\n\u001b[1;32m    795\u001b[0m         return_counts\u001b[39m=\u001b[39;49mreturn_counts,\n\u001b[1;32m    796\u001b[0m     )\n\u001b[1;32m    797\u001b[0m \u001b[39mreturn\u001b[39;00m output, inverse_indices, counts\n",
      "\u001b[0;31mNotImplementedError\u001b[0m: The operator 'aten::_unique2' is not currently implemented for the MPS device. If you want this op to be added in priority during the prototype phase of this feature, please comment on https://github.com/pytorch/pytorch/issues/77764. As a temporary fix, you can set the environment variable `PYTORCH_ENABLE_MPS_FALLBACK=1` to use the CPU as a fallback for this op. WARNING: this will be slower than running natively on MPS."
     ]
    }
   ],
   "source": [
    "state_tensor = torch.Tensor(state).to(device)\n",
    "orbit_tensor = torch.Tensor(orbit).to(device)\n",
    "print(state_tensor.dtype)\n",
    "print(orbit_tensor.dtype)\n",
    "model = NeuralODE().to(device)\n",
    "model.train()\n",
    "decay = 1.0\n",
    "obs_times = torch.linspace(0, 15, num_steps).to(device)\n",
    "print(obs_times.dtype)\n",
    "lr = 0.1\n",
    "num_iter = 1000\n",
    "optimizer = torch.optim.Adam(model.parameters(), lr=0.015)\n",
    "weights = 1.0**obs_times\n",
    "\n",
    "\n",
    "for itr in range(num_iter):\n",
    "    optimizer.zero_grad()\n",
    "    trajectory = torch.permute(model.simulate(state_tensor, obs_times), (1, 2, 0))\n",
    "    loss = (\n",
    "        (trajectory - orbit_tensor)\n",
    "        .abs()\n",
    "        .mul(weights)\n",
    "        .mean()\n",
    "    )\n",
    "    if itr % 20 == 0:\n",
    "        print(itr, loss.item())\n",
    "    loss.backward()\n",
    "\n",
    "    optimizer.step()"
   ]
  },
  {
   "cell_type": "code",
   "execution_count": 216,
   "metadata": {},
   "outputs": [
    {
     "data": {
      "image/png": "[encoded data removed]",
      "text/plain": [
       "<Figure size 640x480 with 1 Axes>"
      ]
     },
     "metadata": {},
     "output_type": "display_data"
    }
   ],
   "source": [
    "# B, S, T\n",
    "positions = orbit.transpose(2,0,1)[:,:,:2]\n",
    "predictions = trajectory.detach().numpy().transpose(2,0,1)[:,:,:2]\n",
    "file_name = \"fixed_orbit\"\n",
    "# Animation\n",
    "# Animation setup\n",
    "fig, ax = plt.subplots()\n",
    "ax.set_xlim(-30, 30)\n",
    "ax.set_ylim(-30, 30)\n",
    "\n",
    "# Original positions visualized with 'o' markers and solid lines for trajectories\n",
    "lines = [ax.plot([], [], 'o')[0] for _ in range(3)]\n",
    "# Store colors for reuse with approximated trajectories\n",
    "colors = [f\"C{_}\" for _ in range(3)]\n",
    "trajectories = [ax.plot([], [], '-', linewidth=0.5, color=colors[_])[0] for _ in range(3)]\n",
    "\n",
    "# Approximated positions visualized with 'x' markers and dotted lines for trajectories\n",
    "# Use the same colors as the original trajectories\n",
    "lines_approx = [ax.plot([], [], 'x', color=colors[_])[0] for _ in range(3)]\n",
    "trajectories_approx = [ax.plot([], [], '--', linewidth=0.5, color=colors[_])[0] for _ in range(3)]\n",
    "\n",
    "def init():\n",
    "    for line in lines + lines_approx:\n",
    "        line.set_data([], [])\n",
    "    for traj in trajectories + trajectories_approx:\n",
    "        traj.set_data([], [])\n",
    "    return lines + trajectories + lines_approx + trajectories_approx\n",
    "\n",
    "def animate(i):\n",
    "    if len(positions[:i,:,0]) != 0:\n",
    "        all_x = np.concatenate((positions[:i, :, 0].flatten(), predictions[:i, :, 0].flatten()))\n",
    "        all_y = np.concatenate((positions[:i, :, 1].flatten(), predictions[:i, :, 1].flatten()))\n",
    "        min_x, max_x = all_x.min() - 10, all_x.max() + 10\n",
    "        min_y, max_y = all_y.min() - 10, all_y.max() + 10\n",
    "        ax.set_xlim(min_x, max_x)\n",
    "        ax.set_ylim(min_y, max_y)\n",
    "\n",
    "    for j, (line, line_approx) in enumerate(zip(lines, lines_approx)):\n",
    "        # Update original positions and trajectories\n",
    "        line.set_data(positions[i, j, 0], positions[i, j, 1])\n",
    "        trajectories[j].set_data(positions[:i, j, 0], positions[:i, j, 1])\n",
    "        \n",
    "        # Update approximated positions and trajectories\n",
    "        line_approx.set_data(predictions[i, j, 0], predictions[i, j, 1])\n",
    "        trajectories_approx[j].set_data(predictions[:i, j, 0], predictions[:i, j, 1])\n",
    "\n",
    "    return lines + trajectories + lines_approx + trajectories_approx\n",
    "\n",
    "# Assuming num_steps is defined\n",
    "ani = animation.FuncAnimation(fig, animate, frames=range(0, num_steps, 2), init_func=init, blit=True, interval=1)\n",
    "\n",
    "# To save the animation\n",
    "writergif = animation.PillowWriter(fps=50)\n",
    "ani.save(f'{file_name}.gif', writer=writergif)\n",
    "\n",
    "plt.show()"
   ]
  },
  {
   "cell_type": "code",
   "execution_count": 199,
   "metadata": {},
   "outputs": [
    {
     "name": "stdout",
     "output_type": "stream",
     "text": [
      "tensor([-5.9605e-08,  5.9605e-08])\n",
      "tensor([ 7.7486e-07, -2.3842e-07], grad_fn=<SumBackward1>)\n",
      "tensor([[-0.6135,  0.8321, -0.5132, -0.4049],\n",
      "        [-0.4139, -0.9473,  0.8112, -0.2727],\n",
      "        [ 1.0273,  0.1152, -0.0932,  0.7149]])\n",
      "tensor([[-0.6135,  0.8321, -0.5132, -0.4049],\n",
      "        [-0.4139, -0.9473,  0.8112, -0.2727],\n",
      "        [ 1.0273,  0.1152, -0.0932,  0.7149]], grad_fn=<SelectBackward0>)\n"
     ]
    }
   ],
   "source": [
    "print(torch.sum(orbit_tensor[:,2:,-1] - orbit_tensor[:,2:,0], dim = 0))\n",
    "print(torch.sum(trajectory[:,2:,-1] - trajectory[:,2:,0], dim = 0))\n",
    "print(orbit_tensor[:,:,0])\n",
    "print(trajectory[:,:,0])"
   ]
  },
  {
   "cell_type": "code",
   "execution_count": 49,
   "metadata": {},
   "outputs": [
    {
     "name": "stdout",
     "output_type": "stream",
     "text": [
      "(500, 3, 2)\n",
      "(3, 4, 500)\n",
      "(3, 4)\n",
      "[ 1.70619011 -1.33122881 -0.3749613 ]\n"
     ]
    }
   ],
   "source": [
    "print(positions.shape)\n",
    "print(orbit.shape)\n",
    "print(state.shape)\n",
    "print(state[:,0])"
   ]
  }
 ],
 "metadata": {
  "kernelspec": {
   "display_name": "Python 3",
   "language": "python",
   "name": "python3"
  },
  "language_info": {
   "codemirror_mode": {
    "name": "ipython",
    "version": 3
   },
   "file_extension": ".py",
   "mimetype": "text/x-python",
   "name": "python",
   "nbconvert_exporter": "python",
   "pygments_lexer": "ipython3",
   "version": "3.10.13"
  },
  "orig_nbformat": 4
 },
 "nbformat": 4,
 "nbformat_minor": 2
}
